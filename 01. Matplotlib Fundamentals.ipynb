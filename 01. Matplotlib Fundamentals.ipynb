{
 "cells": [
  {
   "cell_type": "markdown",
   "metadata": {},
   "source": [
    "# 1. Matplotlib Fundamentals\n",
    "\n",
    "### Objectives\n",
    "\n",
    "1. Be aware of the two independent plotting interfaces for matplotlib - the state-machine environment and the object-oriented interface\n",
    "1. Plot using the object-oriented interface of matplotlib with **`fig, ax = plt.subplots...`**\n",
    "\n",
    "\n",
    "### Resources\n",
    "1. [Matplotlib homepage](http://matplotlib.org)\n",
    "1. [General Usage Notes](http://matplotlib.org/faq/usage_faq.html) Read until 'What is a backend?'\n",
    "\n",
    "## Introduction\n",
    "**`Matplotlib`** is a very popular data visualization library in Python and is often used to make publication-quality visuals.. It was originally built to mimic the functionality of plotting with Matlab. \n",
    "\n",
    "## Two Interfaces\n",
    "There are two separate ways to interface with Matplotlib. One is called the **`state-machine environment`** and the other is with an **object-oriented** approach. The state-machine environment (known as **pyplot** from here on out) is a complex term for saying that matplotlib implicitly handles some of the plotting for you. \n",
    "\n",
    "The **object-oriented** approach gives you full control over each element of the plot and is the more Pythonic way of interacting with matplotlib. It is suggested you use the object-oriented approach. Nearly all plotting examples may be reproduced with either approach, but the object-oriented approach is explicit and, in my opinion, easier to determine what is happening.\n",
    "\n",
    "### Using only the object-oriented approach\n",
    "This notebook only uses the object-oriented approach, as attempting to learn both at the start is not necessary and confusing. Many examples online use pyplot so it is something that you will eventually need to understand. Much of the code between each approach will actually look quite similar when making a single plot.\n",
    "\n",
    "## Anatomy of a Figure\n",
    "![][1]\n",
    "There is a hierarchy you must understand when plotting with matplotlib. The highest and outermost part of a plot is the **Figure**. The figure contains all the other plotting elements, and you typically do not interact with it much. Inside the figure is the **Axes**. This is the actual plotting surface that you normally would refer to as a 'plot'. \n",
    "\n",
    "A figure may contain any number of these **Axes**. The **Axes** is a container for all of the other physical pixels that get drawn onto your screen. This includes the x and y axis, lines, text, points, legends, images, etc... \n",
    "\n",
    "### Axes is a confusing word\n",
    "The term **Axes** is not actually plural and does not mean more than one axis. It literally stands for a single 'plot'. It's unfortunate that this fundamental element has a name that is so confusing.\n",
    "\n",
    "### Importing the pyplot module\n",
    "Importing matplotlib into your workspace is done a little differently than NumPy or Pandas. You rarely will import matplotlib itself directly like this:\n",
    "\n",
    "```\n",
    ">>> import matplotlib\n",
    "```\n",
    "\n",
    "The above is perfectly valid code, but the matplotlib developers decided not to put all the main functionality in the top level module. \n",
    "\n",
    "### The difference between importing Pandas and Matplotlib\n",
    "When you **`import pandas as pd`**, you get access to nearly all of the available functions and classes of the Pandas library. This isn't true with Matplotlib. Instead, much of the functionality for quickly plotting is found in the pyplot module. If you navigate to the matplotlib source directory, found in your site-packages directory, you will see a **`pyplot.py`** file. This is the module that you are importing into your workspace.\n",
    "\n",
    "![][2]\n",
    "\n",
    "Let's import the pyplot module now and alias it to **`plt`**, which is done by convention:\n",
    "\n",
    "[1]: images/fig_ax.png\n",
    "[2]: images/pyplot_dir.png"
   ]
  },
  {
   "cell_type": "code",
   "execution_count": 1,
   "metadata": {},
   "outputs": [],
   "source": [
    "import matplotlib.pyplot as plt"
   ]
  },
  {
   "cell_type": "code",
   "execution_count": null,
   "metadata": {},
   "outputs": [],
   "source": []
  },
  {
   "cell_type": "markdown",
   "metadata": {},
   "source": [
    "## Embedding plots into Jupyter Notebooks\n",
    "To use matplotlib in Jupyter Notebook you need to run the magic command **`%matplotlib inline`** before making any plots. This embeds your plots directly into the output of the cells. If you don't do this, you will have to call the **`show`** method from your figure object, which produces a plot in a separate window."
   ]
  },
  {
   "cell_type": "code",
   "execution_count": 2,
   "metadata": {},
   "outputs": [],
   "source": [
    "%matplotlib inline"
   ]
  },
  {
   "cell_type": "markdown",
   "metadata": {},
   "source": [
    "### Use pyplot to begin\n",
    "pyplot does provide lots of useful functions, one of which creates a Figure and any number of Axes that you desire. You can do this without pyplot, but it involves more syntax. It's also quite standard to begin the object-oriented approach by laying out your Figure and Axes first and then call methods from these objects.\n",
    "\n",
    "### Use the `subplots` function\n",
    "The pyplot **`subplots`** function creates a single Figure and any number of Axes. The first two arguments to it are integers that represent the number of rows and columns of Axes that you desire. For instance, the following call to **`subplots`** creates 6 Axes over a 2 by 3 grid."
   ]
  },
  {
   "cell_type": "code",
   "execution_count": 9,
   "metadata": {},
   "outputs": [],
   "source": [
    "a=3"
   ]
  },
  {
   "cell_type": "code",
   "execution_count": 10,
   "metadata": {},
   "outputs": [
    {
     "data": {
      "text/plain": [
       "3"
      ]
     },
     "execution_count": 10,
     "metadata": {},
     "output_type": "execute_result"
    }
   ],
   "source": [
    "a"
   ]
  },
  {
   "cell_type": "code",
   "execution_count": 11,
   "metadata": {},
   "outputs": [],
   "source": [
    "a, b = -3, 99"
   ]
  },
  {
   "cell_type": "code",
   "execution_count": 12,
   "metadata": {},
   "outputs": [
    {
     "data": {
      "text/plain": [
       "-3"
      ]
     },
     "execution_count": 12,
     "metadata": {},
     "output_type": "execute_result"
    }
   ],
   "source": [
    "a"
   ]
  },
  {
   "cell_type": "code",
   "execution_count": 13,
   "metadata": {},
   "outputs": [],
   "source": [
    "a_list=[1,2,3,4]"
   ]
  },
  {
   "cell_type": "code",
   "execution_count": 14,
   "metadata": {},
   "outputs": [],
   "source": [
    "a,b,c,d = a_list"
   ]
  },
  {
   "cell_type": "code",
   "execution_count": 15,
   "metadata": {},
   "outputs": [
    {
     "data": {
      "text/plain": [
       "1"
      ]
     },
     "execution_count": 15,
     "metadata": {},
     "output_type": "execute_result"
    }
   ],
   "source": [
    "a"
   ]
  },
  {
   "cell_type": "code",
   "execution_count": null,
   "metadata": {},
   "outputs": [],
   "source": [
    "a,b,c = f()"
   ]
  },
  {
   "cell_type": "code",
   "execution_count": 4,
   "metadata": {},
   "outputs": [],
   "source": [
    "\n",
    "import warnings\n",
    "warnings.filterwarnings(action='ignore')\n"
   ]
  },
  {
   "cell_type": "code",
   "execution_count": 3,
   "metadata": {
    "scrolled": true
   },
   "outputs": [
    {
     "data": {
      "image/png": "[encoded data removed]",
      "text/plain": [
       "<matplotlib.figure.Figure at 0x115228da0>"
      ]
     },
     "metadata": {},
     "output_type": "display_data"
    }
   ],
   "source": [
    "fig, ax_array = plt.subplots(2,2, figsize=(16,10))\n",
    "#numpy array of matplotlib axes "
   ]
  },
  {
   "cell_type": "code",
   "execution_count": 5,
   "metadata": {},
   "outputs": [
    {
     "data": {
      "text/plain": [
       "matplotlib.figure.Figure"
      ]
     },
     "execution_count": 5,
     "metadata": {},
     "output_type": "execute_result"
    }
   ],
   "source": [
    "type(fig)"
   ]
  },
  {
   "cell_type": "code",
   "execution_count": 6,
   "metadata": {},
   "outputs": [
    {
     "data": {
      "text/plain": [
       "numpy.ndarray"
      ]
     },
     "execution_count": 6,
     "metadata": {},
     "output_type": "execute_result"
    }
   ],
   "source": [
    "type(ax_array)"
   ]
  },
  {
   "cell_type": "code",
   "execution_count": 7,
   "metadata": {},
   "outputs": [
    {
     "data": {
      "text/plain": [
       "array([[<matplotlib.axes._subplots.AxesSubplot object at 0x115246518>,\n",
       "        <matplotlib.axes._subplots.AxesSubplot object at 0x1154ee518>],\n",
       "       [<matplotlib.axes._subplots.AxesSubplot object at 0x1155297b8>,\n",
       "        <matplotlib.axes._subplots.AxesSubplot object at 0x115569828>]],\n",
       "      dtype=object)"
      ]
     },
     "execution_count": 7,
     "metadata": {},
     "output_type": "execute_result"
    }
   ],
   "source": [
    "ax_array"
   ]
  },
  {
   "cell_type": "code",
   "execution_count": 8,
   "metadata": {},
   "outputs": [
    {
     "data": {
      "text/plain": [
       "<matplotlib.axes._subplots.AxesSubplot at 0x115246518>"
      ]
     },
     "execution_count": 8,
     "metadata": {},
     "output_type": "execute_result"
    }
   ],
   "source": [
    "ax1 = ax_array[0,0]\n",
    "ax1"
   ]
  },
  {
   "cell_type": "code",
   "execution_count": 10,
   "metadata": {},
   "outputs": [],
   "source": [
    "ax1 = ax_array[0, 0]\n",
    "ax2 = ax_array[0, 1]\n",
    "ax3 = ax_array[1, 0]\n",
    "ax4 = ax_array[1, 1]\n",
    "\n"
   ]
  },
  {
   "cell_type": "code",
   "execution_count": 11,
   "metadata": {},
   "outputs": [
    {
     "data": {
      "text/plain": [
       "[<matplotlib.axes._subplots.AxesSubplot at 0x115246518>,\n",
       " <matplotlib.axes._subplots.AxesSubplot at 0x1154ee518>,\n",
       " <matplotlib.axes._subplots.AxesSubplot at 0x1155297b8>,\n",
       " <matplotlib.axes._subplots.AxesSubplot at 0x115569828>]"
      ]
     },
     "execution_count": 11,
     "metadata": {},
     "output_type": "execute_result"
    }
   ],
   "source": [
    "fig.axes"
   ]
  },
  {
   "cell_type": "code",
   "execution_count": 12,
   "metadata": {},
   "outputs": [
    {
     "data": {
      "text/plain": [
       "(1.0, 1.0, 1.0, 0.0)"
      ]
     },
     "execution_count": 12,
     "metadata": {},
     "output_type": "execute_result"
    }
   ],
   "source": [
    "fig.get_facecolor()"
   ]
  },
  {
   "cell_type": "code",
   "execution_count": 13,
   "metadata": {},
   "outputs": [],
   "source": [
    "fig.set_facecolor('pink')"
   ]
  },
  {
   "cell_type": "code",
   "execution_count": 66,
   "metadata": {},
   "outputs": [
    {
     "data": {
      "image/png": "[encoded data removed]",
      "text/plain": [
       "<matplotlib.figure.Figure at 0x11f82d2e8>"
      ]
     },
     "execution_count": 66,
     "metadata": {},
     "output_type": "execute_result"
    }
   ],
   "source": [
    "fig"
   ]
  },
  {
   "cell_type": "code",
   "execution_count": 14,
   "metadata": {},
   "outputs": [],
   "source": [
    "ax1.set_facecolor('red')"
   ]
  },
  {
   "cell_type": "code",
   "execution_count": 15,
   "metadata": {
    "scrolled": true
   },
   "outputs": [
    {
     "data": {
      "image/png": "[encoded data removed]",
      "text/plain": [
       "<matplotlib.figure.Figure at 0x115228da0>"
      ]
     },
     "execution_count": 15,
     "metadata": {},
     "output_type": "execute_result"
    }
   ],
   "source": [
    "fig"
   ]
  },
  {
   "cell_type": "markdown",
   "metadata": {},
   "source": [
    "ax1.text(.1, .2, 'Hey Ya\\'ll, this is Axes1')"
   ]
  },
  {
   "cell_type": "code",
   "execution_count": null,
   "metadata": {},
   "outputs": [],
   "source": [
    "ax1.set_facecolor('red')"
   ]
  },
  {
   "cell_type": "code",
   "execution_count": 18,
   "metadata": {},
   "outputs": [
    {
     "data": {
      "text/plain": [
       "Text(0.4,0.5,'Axes 1')"
      ]
     },
     "execution_count": 18,
     "metadata": {},
     "output_type": "execute_result"
    }
   ],
   "source": [
    "ax2.text(.4, .5, 'Axes 1')\n"
   ]
  },
  {
   "cell_type": "code",
   "execution_count": 17,
   "metadata": {},
   "outputs": [],
   "source": []
  },
  {
   "cell_type": "code",
   "execution_count": 19,
   "metadata": {},
   "outputs": [
    {
     "data": {
      "image/png": "[encoded data removed]",
      "text/plain": [
       "<matplotlib.figure.Figure at 0x115228da0>"
      ]
     },
     "execution_count": 19,
     "metadata": {},
     "output_type": "execute_result"
    }
   ],
   "source": [
    "fig"
   ]
  },
  {
   "cell_type": "code",
   "execution_count": 20,
   "metadata": {},
   "outputs": [],
   "source": [
    "fig.set_edgecolor('purple')"
   ]
  },
  {
   "cell_type": "code",
   "execution_count": 21,
   "metadata": {},
   "outputs": [
    {
     "data": {
      "image/png": "[encoded data removed]",
      "text/plain": [
       "<matplotlib.figure.Figure at 0x115228da0>"
      ]
     },
     "execution_count": 21,
     "metadata": {},
     "output_type": "execute_result"
    }
   ],
   "source": [
    "fig"
   ]
  },
  {
   "cell_type": "code",
   "execution_count": 35,
   "metadata": {},
   "outputs": [
    {
     "data": {
      "text/plain": [
       "{'agg_filter': None,\n",
       " 'alpha': None,\n",
       " 'animated': False,\n",
       " 'axes': [<matplotlib.axes._subplots.AxesSubplot at 0x11f8f5cf8>,\n",
       "  <matplotlib.axes._subplots.AxesSubplot at 0x11f9691d0>,\n",
       "  <matplotlib.axes._subplots.AxesSubplot at 0x11fe21438>,\n",
       "  <matplotlib.axes._subplots.AxesSubplot at 0x11fe5d438>,\n",
       "  <matplotlib.axes._subplots.AxesSubplot at 0x11fe2c0b8>,\n",
       "  <matplotlib.axes._subplots.AxesSubplot at 0x11fec6048>],\n",
       " 'children': [<matplotlib.patches.Rectangle at 0x11f8906a0>,\n",
       "  <matplotlib.axes._subplots.AxesSubplot at 0x11f8f5cf8>,\n",
       "  <matplotlib.axes._subplots.AxesSubplot at 0x11f9691d0>,\n",
       "  <matplotlib.axes._subplots.AxesSubplot at 0x11fe21438>,\n",
       "  <matplotlib.axes._subplots.AxesSubplot at 0x11fe5d438>,\n",
       "  <matplotlib.axes._subplots.AxesSubplot at 0x11fe2c0b8>,\n",
       "  <matplotlib.axes._subplots.AxesSubplot at 0x11fec6048>],\n",
       " 'clip_box': None,\n",
       " 'clip_on': True,\n",
       " 'clip_path': None,\n",
       " 'contains': None,\n",
       " 'default_bbox_extra_artists': [<matplotlib.axes._subplots.AxesSubplot at 0x11f8f5cf8>,\n",
       "  <matplotlib.axes._subplots.AxesSubplot at 0x11f9691d0>,\n",
       "  <matplotlib.axes._subplots.AxesSubplot at 0x11fe21438>,\n",
       "  <matplotlib.axes._subplots.AxesSubplot at 0x11fe5d438>,\n",
       "  <matplotlib.axes._subplots.AxesSubplot at 0x11fe2c0b8>,\n",
       "  <matplotlib.axes._subplots.AxesSubplot at 0x11fec6048>,\n",
       "  Text(0.5,0.5,'Axes1'),\n",
       "  <matplotlib.spines.Spine at 0x11f8fc390>,\n",
       "  <matplotlib.spines.Spine at 0x11f85d358>,\n",
       "  <matplotlib.spines.Spine at 0x11f8eaac8>,\n",
       "  <matplotlib.spines.Spine at 0x11f8ea3c8>,\n",
       "  <matplotlib.axis.XAxis at 0x11f8ea2e8>,\n",
       "  <matplotlib.axis.YAxis at 0x11f91cb00>,\n",
       "  Text(0.5,1,''),\n",
       "  Text(0,1,''),\n",
       "  Text(1,1,''),\n",
       "  <matplotlib.patches.Rectangle at 0x11f966eb8>,\n",
       "  <matplotlib.spines.Spine at 0x11f969668>,\n",
       "  <matplotlib.spines.Spine at 0x11f9694a8>,\n",
       "  <matplotlib.spines.Spine at 0x11f9697b8>,\n",
       "  <matplotlib.spines.Spine at 0x11f969908>,\n",
       "  <matplotlib.axis.XAxis at 0x11f9699b0>,\n",
       "  <matplotlib.axis.YAxis at 0x11fdfa278>,\n",
       "  Text(0.5,1,''),\n",
       "  Text(0,1,''),\n",
       "  Text(1,1,''),\n",
       "  <matplotlib.patches.Rectangle at 0x11fe0e748>,\n",
       "  <matplotlib.spines.Spine at 0x11fe21828>,\n",
       "  <matplotlib.spines.Spine at 0x11fe21940>,\n",
       "  <matplotlib.spines.Spine at 0x11fe21a58>,\n",
       "  <matplotlib.spines.Spine at 0x11fe21b70>,\n",
       "  <matplotlib.axis.XAxis at 0x11fe21c50>,\n",
       "  <matplotlib.axis.YAxis at 0x11fe323c8>,\n",
       "  Text(0.5,1,''),\n",
       "  Text(0,1,''),\n",
       "  Text(1,1,''),\n",
       "  <matplotlib.patches.Rectangle at 0x11fe38400>,\n",
       "  <matplotlib.spines.Spine at 0x11fe5d828>,\n",
       "  <matplotlib.spines.Spine at 0x11fe5d940>,\n",
       "  <matplotlib.spines.Spine at 0x11fe5da58>,\n",
       "  <matplotlib.spines.Spine at 0x11fe5db70>,\n",
       "  <matplotlib.axis.XAxis at 0x11fe5dc50>,\n",
       "  <matplotlib.axis.YAxis at 0x11fe6b3c8>,\n",
       "  Text(0.5,1,''),\n",
       "  Text(0,1,''),\n",
       "  Text(1,1,''),\n",
       "  <matplotlib.patches.Rectangle at 0x11fe7fc18>,\n",
       "  <matplotlib.spines.Spine at 0x11f977588>,\n",
       "  <matplotlib.spines.Spine at 0x11f977ac8>,\n",
       "  <matplotlib.spines.Spine at 0x11f977eb8>,\n",
       "  <matplotlib.spines.Spine at 0x11f964470>,\n",
       "  <matplotlib.axis.XAxis at 0x11f964128>,\n",
       "  <matplotlib.axis.YAxis at 0x11fe96c50>,\n",
       "  Text(0.5,1,''),\n",
       "  Text(0,1,''),\n",
       "  Text(1,1,''),\n",
       "  <matplotlib.patches.Rectangle at 0x11fe96780>,\n",
       "  <matplotlib.spines.Spine at 0x11fec6438>,\n",
       "  <matplotlib.spines.Spine at 0x11fec6550>,\n",
       "  <matplotlib.spines.Spine at 0x11fec6668>,\n",
       "  <matplotlib.spines.Spine at 0x11fec6780>,\n",
       "  <matplotlib.axis.XAxis at 0x11fec6860>,\n",
       "  <matplotlib.axis.YAxis at 0x11fecdf98>,\n",
       "  Text(0.5,1,''),\n",
       "  Text(0,1,''),\n",
       "  Text(1,1,''),\n",
       "  <matplotlib.patches.Rectangle at 0x11fec62b0>],\n",
       " 'dpi': 72.0,\n",
       " 'edgecolor': (1.0, 1.0, 1.0, 0.0),\n",
       " 'facecolor': (0.5647058823529412,\n",
       "  0.9333333333333333,\n",
       "  0.5647058823529412,\n",
       "  1.0),\n",
       " 'figheight': 8.0,\n",
       " 'figure': None,\n",
       " 'figwidth': 12.0,\n",
       " 'frameon': True,\n",
       " 'gid': None,\n",
       " 'label': '',\n",
       " 'path_effects': [],\n",
       " 'picker': None,\n",
       " 'rasterized': None,\n",
       " 'size_inches': array([12.,  8.]),\n",
       " 'sketch_params': None,\n",
       " 'snap': None,\n",
       " 'tight_layout': False,\n",
       " 'transform': IdentityTransform(),\n",
       " 'transformed_clip_path_and_affine': (None, None),\n",
       " 'url': None,\n",
       " 'visible': True,\n",
       " 'window_extent': TransformedBbox(Bbox([[0.0, 0.0], [12.0, 8.0]]), Affine2D(array([[72.,  0.,  0.],\n",
       "        [ 0., 72.,  0.],\n",
       "        [ 0.,  0.,  1.]]))),\n",
       " 'zorder': 0}"
      ]
     },
     "execution_count": 35,
     "metadata": {},
     "output_type": "execute_result"
    }
   ],
   "source": [
    "fig.properties()"
   ]
  },
  {
   "cell_type": "code",
   "execution_count": 22,
   "metadata": {},
   "outputs": [],
   "source": [
    "import pandas as pd\n",
    "import numpy as np\n",
    "\n",
    "x = np.arange(-10, 10)\n",
    "y = x**2+2*x-5"
   ]
  },
  {
   "cell_type": "code",
   "execution_count": 23,
   "metadata": {},
   "outputs": [
    {
     "data": {
      "text/plain": [
       "array([-10,  -9,  -8,  -7,  -6,  -5,  -4,  -3,  -2,  -1,   0,   1,   2,\n",
       "         3,   4,   5,   6,   7,   8,   9])"
      ]
     },
     "execution_count": 23,
     "metadata": {},
     "output_type": "execute_result"
    }
   ],
   "source": [
    "x"
   ]
  },
  {
   "cell_type": "code",
   "execution_count": 24,
   "metadata": {},
   "outputs": [
    {
     "data": {
      "image/png": "[encoded data removed]",
      "text/plain": [
       "<matplotlib.figure.Figure at 0x115e125c0>"
      ]
     },
     "metadata": {},
     "output_type": "display_data"
    }
   ],
   "source": [
    "fig, ax_array = plt.subplots(3,2, figsize=(16,10))"
   ]
  },
  {
   "cell_type": "code",
   "execution_count": 25,
   "metadata": {},
   "outputs": [
    {
     "data": {
      "text/plain": [
       "array([[<matplotlib.axes._subplots.AxesSubplot object at 0x11785a198>,\n",
       "        <matplotlib.axes._subplots.AxesSubplot object at 0x1178aa0f0>],\n",
       "       [<matplotlib.axes._subplots.AxesSubplot object at 0x1178e4080>,\n",
       "        <matplotlib.axes._subplots.AxesSubplot object at 0x11791d080>],\n",
       "       [<matplotlib.axes._subplots.AxesSubplot object at 0x1179580b8>,\n",
       "        <matplotlib.axes._subplots.AxesSubplot object at 0x11791dc50>]],\n",
       "      dtype=object)"
      ]
     },
     "execution_count": 25,
     "metadata": {},
     "output_type": "execute_result"
    }
   ],
   "source": [
    "ax_array"
   ]
  },
  {
   "cell_type": "code",
   "execution_count": 93,
   "metadata": {},
   "outputs": [
    {
     "data": {
      "image/png": "[encoded data removed]",
      "text/plain": [
       "<matplotlib.figure.Figure at 0x122a3e860>"
      ]
     },
     "execution_count": 93,
     "metadata": {},
     "output_type": "execute_result"
    }
   ],
   "source": [
    "fig"
   ]
  },
  {
   "cell_type": "code",
   "execution_count": null,
   "metadata": {},
   "outputs": [],
   "source": []
  },
  {
   "cell_type": "code",
   "execution_count": null,
   "metadata": {},
   "outputs": [],
   "source": []
  },
  {
   "cell_type": "markdown",
   "metadata": {},
   "source": [
    "### Why are there two variables on the left-hand side?\n",
    "You probably noticed that there are two new variables separated by a comma on the left-hand side of the equal statement. Python allows you to return multiple objects back from a function. The **`subplots`** function returns two objects, the Figure, and an array of Axes.\n",
    "\n",
    "### Quick example of a function returning multiple objects\n",
    "The following function returns the square and the cube of the passed number. The returned objects are separated by a comma."
   ]
  },
  {
   "cell_type": "code",
   "execution_count": 29,
   "metadata": {},
   "outputs": [],
   "source": [
    "def square_cube(x):\n",
    "    return x ** 2, x ** 3"
   ]
  },
  {
   "cell_type": "code",
   "execution_count": 30,
   "metadata": {},
   "outputs": [
    {
     "data": {
      "text/plain": [
       "(25, 125)"
      ]
     },
     "execution_count": 30,
     "metadata": {},
     "output_type": "execute_result"
    }
   ],
   "source": [
    "square_cube(5)"
   ]
  },
  {
   "cell_type": "markdown",
   "metadata": {},
   "source": [
    "### Assign the returned values to separate variables\n",
    "We can assign the result to two new variables with the following:"
   ]
  },
  {
   "cell_type": "code",
   "execution_count": 31,
   "metadata": {},
   "outputs": [],
   "source": [
    "a, b = square_cube(5)"
   ]
  },
  {
   "cell_type": "code",
   "execution_count": null,
   "metadata": {},
   "outputs": [],
   "source": [
    "a"
   ]
  },
  {
   "cell_type": "code",
   "execution_count": null,
   "metadata": {},
   "outputs": [],
   "source": [
    "b"
   ]
  },
  {
   "cell_type": "markdown",
   "metadata": {},
   "source": [
    "### Tuple Unpacking\n",
    "The above is technically called tuple unpacking and it is a special Python feature that allows you to assign multiple different variables from a tuple. You might not be aware of it, but the **`square_cube`** function is returning a single object, a tuple with two elements in it. Let's verify this by assigning the result to a single variable and checking its type."
   ]
  },
  {
   "cell_type": "code",
   "execution_count": 32,
   "metadata": {},
   "outputs": [
    {
     "data": {
      "text/plain": [
       "tuple"
      ]
     },
     "execution_count": 32,
     "metadata": {},
     "output_type": "execute_result"
    }
   ],
   "source": [
    "t = square_cube(5)\n",
    "type(t)"
   ]
  },
  {
   "cell_type": "markdown",
   "metadata": {},
   "source": [
    "### The `subplots` function also returns a tuple\n",
    "The **`subplots`** function also returns a tuple, we are simply unpacking the tuple into two separate variables. Let's assign the result again to a single variable and output its type."
   ]
  },
  {
   "cell_type": "code",
   "execution_count": 33,
   "metadata": {},
   "outputs": [
    {
     "data": {
      "image/png": "[encoded data removed]",
      "text/plain": [
       "<matplotlib.figure.Figure at 0x1179e4fd0>"
      ]
     },
     "metadata": {},
     "output_type": "display_data"
    }
   ],
   "source": [
    "subplot_return = plt.subplots(2, 3)"
   ]
  },
  {
   "cell_type": "code",
   "execution_count": null,
   "metadata": {},
   "outputs": [],
   "source": [
    "type(subplot_return)"
   ]
  },
  {
   "cell_type": "markdown",
   "metadata": {},
   "source": [
    "It's a tuple with two elements:"
   ]
  },
  {
   "cell_type": "code",
   "execution_count": null,
   "metadata": {},
   "outputs": [],
   "source": [
    "len(subplot_return)"
   ]
  },
  {
   "cell_type": "markdown",
   "metadata": {},
   "source": [
    "### Output the `subplot_return` variable\n",
    "Let's take a look at **`subplot_return`** tuple and find the type of each of its elements."
   ]
  },
  {
   "cell_type": "code",
   "execution_count": 34,
   "metadata": {},
   "outputs": [
    {
     "data": {
      "text/plain": [
       "(<matplotlib.figure.Figure at 0x1179e4fd0>,\n",
       " array([[<matplotlib.axes._subplots.AxesSubplot object at 0x117a60198>,\n",
       "         <matplotlib.axes._subplots.AxesSubplot object at 0x117cc09b0>,\n",
       "         <matplotlib.axes._subplots.AxesSubplot object at 0x117cf9940>],\n",
       "        [<matplotlib.axes._subplots.AxesSubplot object at 0x117d2fe10>,\n",
       "         <matplotlib.axes._subplots.AxesSubplot object at 0x117d57cc0>,\n",
       "         <matplotlib.axes._subplots.AxesSubplot object at 0x117d91c50>]],\n",
       "       dtype=object))"
      ]
     },
     "execution_count": 34,
     "metadata": {},
     "output_type": "execute_result"
    }
   ],
   "source": [
    "subplot_return"
   ]
  },
  {
   "cell_type": "code",
   "execution_count": 35,
   "metadata": {},
   "outputs": [
    {
     "data": {
      "text/plain": [
       "matplotlib.figure.Figure"
      ]
     },
     "execution_count": 35,
     "metadata": {},
     "output_type": "execute_result"
    }
   ],
   "source": [
    "type(subplot_return[0])"
   ]
  },
  {
   "cell_type": "code",
   "execution_count": 36,
   "metadata": {},
   "outputs": [
    {
     "data": {
      "text/plain": [
       "numpy.ndarray"
      ]
     },
     "execution_count": 36,
     "metadata": {},
     "output_type": "execute_result"
    }
   ],
   "source": [
    "type(subplot_return[1])"
   ]
  },
  {
   "cell_type": "markdown",
   "metadata": {},
   "source": [
    "### Multiple Axes returned as a NumPy array\n",
    "Whenever you create multiple Axes on a figure with **`subplots`**, you will be returned a NumPy array of Axes objects. Let's verify that the shape of this array is 2 x 3. We will now go back and use **`fig`** and **`ax_array`** from our original call to **`subplots`**."
   ]
  },
  {
   "cell_type": "code",
   "execution_count": 37,
   "metadata": {},
   "outputs": [
    {
     "data": {
      "text/plain": [
       "(3, 2)"
      ]
     },
     "execution_count": 37,
     "metadata": {},
     "output_type": "execute_result"
    }
   ],
   "source": [
    "ax_array.shape"
   ]
  },
  {
   "cell_type": "markdown",
   "metadata": {},
   "source": [
    "### Distinguishing the Figure from the Axes\n",
    "It's not obvious, from looking at the plots, which part is the Figure and which are the Axes. We will call our first method, **`set_face_color`** in an object-oriented fashion from the Figure object. We pass it a name of a color (more on colors later). "
   ]
  },
  {
   "cell_type": "code",
   "execution_count": 38,
   "metadata": {},
   "outputs": [],
   "source": [
    "fig.set_facecolor('green')"
   ]
  },
  {
   "cell_type": "markdown",
   "metadata": {},
   "source": [
    "### Where is the figure?\n",
    "When using the object-oriented approach, you will need to write the Figure variable name as the last line in a cell. This should now hopefully distinguish the Figure (green), from the Axes(white)."
   ]
  },
  {
   "cell_type": "code",
   "execution_count": 39,
   "metadata": {},
   "outputs": [
    {
     "data": {
      "image/png": "[encoded data removed]",
      "text/plain": [
       "<matplotlib.figure.Figure at 0x115e125c0>"
      ]
     },
     "execution_count": 39,
     "metadata": {},
     "output_type": "execute_result"
    }
   ],
   "source": [
    "fig"
   ]
  },
  {
   "cell_type": "markdown",
   "metadata": {},
   "source": [
    "## Set the size of the figure on creation with `figsize`\n",
    "You can set the Figure to any size you want with the **`figsize`** parameter in the call to **`subplots`**. Set it equal to a 2-item tuple of the size in **inches** you want your plot to be."
   ]
  },
  {
   "cell_type": "code",
   "execution_count": 40,
   "metadata": {},
   "outputs": [
    {
     "data": {
      "image/png": "[encoded data removed]",
      "text/plain": [
       "<matplotlib.figure.Figure at 0x11793b7f0>"
      ]
     },
     "metadata": {},
     "output_type": "display_data"
    }
   ],
   "source": [
    "fig, ax_array = plt.subplots(2, 3, figsize=(12, 6))\n",
    "fig.set_facecolor('green')"
   ]
  },
  {
   "cell_type": "markdown",
   "metadata": {},
   "source": [
    "### Why is there output this time?\n",
    "Calls using pyplot will output the figure. Object-oriented method calls will not."
   ]
  },
  {
   "cell_type": "markdown",
   "metadata": {},
   "source": [
    "### Identify each Axes\n",
    "Currently, we have a NumPy array that contains all 6 of our Axes objects. Let's assign each of these Axes objects into their own variable."
   ]
  },
  {
   "cell_type": "code",
   "execution_count": 41,
   "metadata": {},
   "outputs": [],
   "source": [
    "ax1 = ax_array[0, 0]\n",
    "ax2 = ax_array[0, 1]\n",
    "ax3 = ax_array[0, 2]\n",
    "ax4 = ax_array[1, 0]\n",
    "ax5 = ax_array[1, 1]\n",
    "ax6 = ax_array[1, 2]"
   ]
  },
  {
   "cell_type": "markdown",
   "metadata": {},
   "source": [
    "Verify the type to ensure we have matplotlib Axes objects:"
   ]
  },
  {
   "cell_type": "code",
   "execution_count": null,
   "metadata": {},
   "outputs": [],
   "source": [
    "type(ax1)"
   ]
  },
  {
   "cell_type": "markdown",
   "metadata": {},
   "source": [
    "### Outputting the Axes does not show the plot\n",
    "Only outputting the Figure object will display the plot."
   ]
  },
  {
   "cell_type": "code",
   "execution_count": 42,
   "metadata": {},
   "outputs": [
    {
     "data": {
      "text/plain": [
       "<matplotlib.axes._subplots.AxesSubplot at 0x117da42b0>"
      ]
     },
     "execution_count": 42,
     "metadata": {},
     "output_type": "execute_result"
    }
   ],
   "source": [
    "ax1"
   ]
  },
  {
   "cell_type": "markdown",
   "metadata": {},
   "source": [
    "### Identifying each Axes\n",
    "We have 6 Axes objects, but it is not exactly clear which of our variables refers to which Axes. Let's label each Axes with some text in the middle. By default, matplotlib has made each Axes x and y limits 0 to 1.\n",
    "\n",
    "### Calling our first Axes method\n",
    "The majority of your method calls when working with matplotlib will come from Axes objects. We use the **`text`** method which takes an x and y coordinate and a string for the text."
   ]
  },
  {
   "cell_type": "code",
   "execution_count": 43,
   "metadata": {},
   "outputs": [
    {
     "data": {
      "text/plain": [
       "Text(0.4,0.5,'Axes 1')"
      ]
     },
     "execution_count": 43,
     "metadata": {},
     "output_type": "execute_result"
    }
   ],
   "source": [
    "ax1.text(.4, .5, 'Axes 1')"
   ]
  },
  {
   "cell_type": "markdown",
   "metadata": {},
   "source": [
    "### Where is the text?\n",
    "Remember, that only when you output the Figure will you see the Figure.\n",
    "\n",
    "### Why is there output?\n",
    "When we add items to our Axes, matplotlib will return an object that references that item. Here, it returned a Text object. We did not assign it to a variable so it was outputted to the screen.\n",
    "\n",
    "### View the Figure to see the text\n",
    "Let's verify that our text was placed on an Axes."
   ]
  },
  {
   "cell_type": "code",
   "execution_count": 44,
   "metadata": {},
   "outputs": [
    {
     "data": {
      "image/png": "[encoded data removed]",
      "text/plain": [
       "<matplotlib.figure.Figure at 0x11793b7f0>"
      ]
     },
     "execution_count": 44,
     "metadata": {},
     "output_type": "execute_result"
    }
   ],
   "source": [
    "fig"
   ]
  },
  {
   "cell_type": "markdown",
   "metadata": {},
   "source": [
    "### Identify all the other Axes with text"
   ]
  },
  {
   "cell_type": "code",
   "execution_count": 45,
   "metadata": {},
   "outputs": [],
   "source": [
    "ax2.text(.4, .5, 'Axes 2')\n",
    "ax3.text(.4, .5, 'Axes 3')\n",
    "ax4.text(.4, .5, 'Axes 4')\n",
    "ax5.text(.4, .5, 'Axes 5')\n",
    "text6 = ax6.text(.4, .5, 'Axes 6')"
   ]
  },
  {
   "cell_type": "code",
   "execution_count": null,
   "metadata": {},
   "outputs": [],
   "source": [
    "fig"
   ]
  },
  {
   "cell_type": "markdown",
   "metadata": {},
   "source": [
    "# How to use the `text` Axes method? \n",
    "Lots more help exists within the Matplotlib documentation. Let's visit the [Matplotlib home page] and find out how to get help.\n",
    "\n",
    "## Three ways to get help\n",
    "\n",
    "* **Find a tutorial** - Click tutorials, then text, then pick an individual tutorial\n",
    "* **Find an example** - Click examples, then Text, labels, and annotations from the right-hand side menu\n",
    "* **The API** - Click docs, then scroll down and select text\n",
    "\n",
    "The API gives you a comprehensive list of all the available parameters for the text method as well as all the attributes and methods.\n",
    "\n",
    "\n",
    "## Not all parameters visible with shift + tab + tab\n",
    "Unfortunately, with matplotlib, not all the available parameters will be shown in the docstring. You will have to consult the API.\n",
    "\n",
    "# Practice creating text\n",
    "Use the **`text`** method to place text on the any of the Axes. You can also use **`annotate`** method to draw arrows from some text to a point.\n",
    "\n",
    "[1]: https://matplotlib.org/index.html"
   ]
  },
  {
   "cell_type": "code",
   "execution_count": null,
   "metadata": {},
   "outputs": [],
   "source": [
    "# practice here"
   ]
  },
  {
   "cell_type": "code",
   "execution_count": null,
   "metadata": {},
   "outputs": [],
   "source": []
  },
  {
   "cell_type": "code",
   "execution_count": null,
   "metadata": {},
   "outputs": [],
   "source": []
  },
  {
   "cell_type": "code",
   "execution_count": null,
   "metadata": {},
   "outputs": [],
   "source": []
  },
  {
   "cell_type": "code",
   "execution_count": null,
   "metadata": {},
   "outputs": [],
   "source": []
  },
  {
   "cell_type": "code",
   "execution_count": null,
   "metadata": {},
   "outputs": [],
   "source": []
  },
  {
   "cell_type": "markdown",
   "metadata": {},
   "source": [
    "### The last Text object was saved to a variable\n",
    "The text plotted on the bottom right Axes was assigned to variable **`text6`**. We can now explore this object with the dot notation. Placing a dot after it and pressing tab reveals all of its functionality.\n",
    "\n",
    "### `get_` and `set_` methods\n",
    "Most matplotlib objects have a set of methods that begin with **`get_`** and a matching set that begin with **`set_`**. The **`get_`** methods retrieve a property about the object and the **`set_`** methods assign a new value to a property. These are sometimes called **getter and setter** methods.\n",
    "\n",
    "Let's retrieve some of the text properties."
   ]
  },
  {
   "cell_type": "code",
   "execution_count": 46,
   "metadata": {},
   "outputs": [
    {
     "data": {
      "text/plain": [
       "'k'"
      ]
     },
     "execution_count": 46,
     "metadata": {},
     "output_type": "execute_result"
    }
   ],
   "source": [
    "# 'k' stands for 'black'\n",
    "text6.get_color()"
   ]
  },
  {
   "cell_type": "code",
   "execution_count": 47,
   "metadata": {},
   "outputs": [
    {
     "data": {
      "text/plain": [
       "10.0"
      ]
     },
     "execution_count": 47,
     "metadata": {},
     "output_type": "execute_result"
    }
   ],
   "source": [
    "text6.get_fontsize()"
   ]
  },
  {
   "cell_type": "code",
   "execution_count": 48,
   "metadata": {},
   "outputs": [
    {
     "data": {
      "text/plain": [
       "'Axes 6'"
      ]
     },
     "execution_count": 48,
     "metadata": {},
     "output_type": "execute_result"
    }
   ],
   "source": [
    "text6.get_text()"
   ]
  },
  {
   "cell_type": "code",
   "execution_count": 49,
   "metadata": {},
   "outputs": [
    {
     "data": {
      "text/plain": [
       "'left'"
      ]
     },
     "execution_count": 49,
     "metadata": {},
     "output_type": "execute_result"
    }
   ],
   "source": [
    "text6.get_horizontalalignment()"
   ]
  },
  {
   "cell_type": "code",
   "execution_count": 50,
   "metadata": {},
   "outputs": [
    {
     "data": {
      "text/plain": [
       "True"
      ]
     },
     "execution_count": 50,
     "metadata": {},
     "output_type": "execute_result"
    }
   ],
   "source": [
    "text6.get_visible()"
   ]
  },
  {
   "cell_type": "markdown",
   "metadata": {},
   "source": [
    "### Get all properties\n",
    "Use the **`properties`** method to unveil all of the properties of a matplotlib object. Warning - there are a lot."
   ]
  },
  {
   "cell_type": "code",
   "execution_count": 51,
   "metadata": {},
   "outputs": [
    {
     "data": {
      "text/plain": [
       "{'agg_filter': None,\n",
       " 'alpha': None,\n",
       " 'animated': False,\n",
       " 'bbox_patch': None,\n",
       " 'children': [],\n",
       " 'clip_box': TransformedBbox(Bbox([[0.0, 0.0], [1.0, 1.0]]), CompositeGenericTransform(CompositeGenericTransform(BboxTransformTo(Bbox([[0.0, 0.0], [1.0, 1.0]])), Affine2D(array([[1., 0., 0.],\n",
       "        [0., 1., 0.],\n",
       "        [0., 0., 1.]]))), BboxTransformTo(TransformedBbox(Bbox([[0.6720588235294118, 0.1250000000000001], [0.9000000000000001, 0.46818181818181825]]), BboxTransformTo(TransformedBbox(Bbox([[0.0, 0.0], [12.0, 6.0]]), Affine2D(array([[72.,  0.,  0.],\n",
       "        [ 0., 72.,  0.],\n",
       "        [ 0.,  0.,  1.]])))))))),\n",
       " 'clip_on': False,\n",
       " 'clip_path': None,\n",
       " 'color': 'k',\n",
       " 'contains': None,\n",
       " 'family': ['sans-serif'],\n",
       " 'figure': <matplotlib.figure.Figure at 0x11793b7f0>,\n",
       " 'fontproperties': <matplotlib.font_manager.FontProperties at 0x1181c82b0>,\n",
       " 'gid': None,\n",
       " 'horizontalalignment': 'left',\n",
       " 'label': '',\n",
       " 'name': 'DejaVu Sans',\n",
       " 'path_effects': [],\n",
       " 'picker': None,\n",
       " 'position': (0.4, 0.5),\n",
       " 'rasterized': None,\n",
       " 'rotation': 0.0,\n",
       " 'rotation_mode': None,\n",
       " 'size': 10.0,\n",
       " 'sketch_params': None,\n",
       " 'snap': None,\n",
       " 'stretch': 'normal',\n",
       " 'style': 'normal',\n",
       " 'text': 'Axes 6',\n",
       " 'transform': CompositeGenericTransform(TransformWrapper(BlendedAffine2D(IdentityTransform(),IdentityTransform())), CompositeGenericTransform(BboxTransformFrom(TransformedBbox(Bbox([[0.0, 0.0], [1.0, 1.0]]), TransformWrapper(BlendedAffine2D(IdentityTransform(),IdentityTransform())))), BboxTransformTo(TransformedBbox(Bbox([[0.6720588235294118, 0.1250000000000001], [0.9000000000000001, 0.46818181818181825]]), BboxTransformTo(TransformedBbox(Bbox([[0.0, 0.0], [12.0, 6.0]]), Affine2D(array([[72.,  0.,  0.],\n",
       "        [ 0., 72.,  0.],\n",
       "        [ 0.,  0.,  1.]])))))))),\n",
       " 'transformed_clip_path_and_affine': (None, None),\n",
       " 'unitless_position': (0.4, 0.5),\n",
       " 'url': None,\n",
       " 'usetex': False,\n",
       " 'variant': 'normal',\n",
       " 'verticalalignment': 'baseline',\n",
       " 'visible': True,\n",
       " 'weight': 'normal',\n",
       " 'wrap': False,\n",
       " 'zorder': 3}"
      ]
     },
     "execution_count": 51,
     "metadata": {},
     "output_type": "execute_result"
    }
   ],
   "source": [
    "text6.properties()"
   ]
  },
  {
   "cell_type": "markdown",
   "metadata": {},
   "source": [
    "### Setting properties\n",
    "Let's set some of the properties."
   ]
  },
  {
   "cell_type": "code",
   "execution_count": 52,
   "metadata": {},
   "outputs": [],
   "source": [
    "text6.set_color('purple')\n",
    "text6.set_fontsize(20)\n",
    "text6.set_horizontalalignment('center')\n",
    "text6.set_y(.2)"
   ]
  },
  {
   "cell_type": "markdown",
   "metadata": {},
   "source": [
    "### Output Figure to verify\n",
    "Again, you must output the Figure to see the changes."
   ]
  },
  {
   "cell_type": "code",
   "execution_count": 53,
   "metadata": {},
   "outputs": [
    {
     "data": {
      "image/png": "[encoded data removed]",
      "text/plain": [
       "<matplotlib.figure.Figure at 0x11793b7f0>"
      ]
     },
     "execution_count": 53,
     "metadata": {},
     "output_type": "execute_result"
    }
   ],
   "source": [
    "fig"
   ]
  },
  {
   "cell_type": "markdown",
   "metadata": {},
   "source": [
    "### Most objects are accessible through dot notation\n",
    "You can select most objects on the Figure with dot notation. For instance, we can select the **x-axis** like this and get the location of the tick marks."
   ]
  },
  {
   "cell_type": "code",
   "execution_count": 54,
   "metadata": {},
   "outputs": [
    {
     "data": {
      "text/plain": [
       "matplotlib.axis.XAxis"
      ]
     },
     "execution_count": 54,
     "metadata": {},
     "output_type": "execute_result"
    }
   ],
   "source": [
    "xaxis = ax1.xaxis\n",
    "type(xaxis)"
   ]
  },
  {
   "cell_type": "code",
   "execution_count": 55,
   "metadata": {},
   "outputs": [
    {
     "data": {
      "text/plain": [
       "array(['out', 'out', 'out', 'out', 'out', 'out'], dtype='<U3')"
      ]
     },
     "execution_count": 55,
     "metadata": {},
     "output_type": "execute_result"
    }
   ],
   "source": [
    "xaxis.get_ticks_direction()"
   ]
  },
  {
   "cell_type": "code",
   "execution_count": 56,
   "metadata": {},
   "outputs": [
    {
     "data": {
      "text/plain": [
       "array([0. , 0.2, 0.4, 0.6, 0.8, 1. ])"
      ]
     },
     "execution_count": 56,
     "metadata": {},
     "output_type": "execute_result"
    }
   ],
   "source": [
    "xaxis.get_ticklocs()"
   ]
  },
  {
   "cell_type": "markdown",
   "metadata": {},
   "source": [
    "### Most important x and y axis methods are available directly from the Axes\n",
    "Although, you can select the x and y axis objects directly, most of the important getter and setter methods are available from the Axes itself. These methods will start with **`get_x`** or **`get_y`**"
   ]
  },
  {
   "cell_type": "code",
   "execution_count": 57,
   "metadata": {},
   "outputs": [
    {
     "data": {
      "text/plain": [
       "array([0. , 0.2, 0.4, 0.6, 0.8, 1. ])"
      ]
     },
     "execution_count": 57,
     "metadata": {},
     "output_type": "execute_result"
    }
   ],
   "source": [
    "ax1.get_xticks()"
   ]
  },
  {
   "cell_type": "code",
   "execution_count": null,
   "metadata": {},
   "outputs": [],
   "source": [
    "ax1.get_xlim()"
   ]
  },
  {
   "cell_type": "code",
   "execution_count": null,
   "metadata": {},
   "outputs": [],
   "source": [
    "ax1.get_yscale()"
   ]
  },
  {
   "cell_type": "code",
   "execution_count": null,
   "metadata": {},
   "outputs": [],
   "source": [
    "ax4.set_ylim(-2, 2)\n",
    "fig"
   ]
  },
  {
   "cell_type": "markdown",
   "metadata": {},
   "source": [
    "# Exercises"
   ]
  },
  {
   "cell_type": "markdown",
   "metadata": {},
   "source": [
    "### Problem 1\n",
    "<span  style=\"color:green; font-size:16px\">Use the pyplot **`subplots`** function to create a Figure with two rows and one column. Use **`figsize`** to choose a size for your figure. Assign the Figure, and each Axes to their own variables. Set the face color to whatever you lik. Add a title to the upper right hand corner with the `suptitle` method. Make the title font size 30 and change its color from black. Feel free to change more of the [font properties][1]</span>\n",
    "\n",
    "[1]: https://matplotlib.org/users/text_props.html"
   ]
  },
  {
   "cell_type": "code",
   "execution_count": null,
   "metadata": {},
   "outputs": [],
   "source": []
  },
  {
   "cell_type": "markdown",
   "metadata": {},
   "source": [
    "### Problem 2\n",
    "<span  style=\"color:green; font-size:16px\">We will be selecting the title we just created in problem 1 and changing its color. Use the `texts` Figure attribute to return a list of Text objects. There should only be one Text object on your plot. Assign it to a variable and call some getter methods on it. Then change the color of it and output the Figure again.</span>\n",
    "\n",
    "[1]: https://matplotlib.org/users/text_props.html"
   ]
  },
  {
   "cell_type": "code",
   "execution_count": null,
   "metadata": {},
   "outputs": [],
   "source": []
  },
  {
   "cell_type": "markdown",
   "metadata": {},
   "source": [
    "### Problem 3\n",
    "<span  style=\"color:green; font-size:16px\">Using the figure above, add text to the top Axes labeling it in the top left hand corner. Label the bottom Axes in the bottom right hand corner.</span>"
   ]
  },
  {
   "cell_type": "code",
   "execution_count": null,
   "metadata": {},
   "outputs": [],
   "source": []
  },
  {
   "cell_type": "markdown",
   "metadata": {},
   "source": [
    "### Problem 4\n",
    "<span  style=\"color:green; font-size:16px\">Change the limits of the x and y axis on the bottom Axes.</span>"
   ]
  },
  {
   "cell_type": "code",
   "execution_count": null,
   "metadata": {},
   "outputs": [],
   "source": []
  },
  {
   "cell_type": "markdown",
   "metadata": {},
   "source": [
    "### Problem 5\n",
    "<span  style=\"color:green; font-size:16px\">Although you can select each tick mark individually, it is easier to manipulate them as a whole with the `tick_params` Axes method. Read the docs on it and change a few of the properties with it.</span>"
   ]
  },
  {
   "cell_type": "code",
   "execution_count": null,
   "metadata": {},
   "outputs": [],
   "source": []
  },
  {
   "cell_type": "markdown",
   "metadata": {},
   "source": [
    "### Problem 6\n",
    "<span  style=\"color:green; font-size:16px\">Make the x-tick marks appear at just three values.</span>"
   ]
  },
  {
   "cell_type": "code",
   "execution_count": null,
   "metadata": {},
   "outputs": [],
   "source": []
  },
  {
   "cell_type": "markdown",
   "metadata": {},
   "source": [
    "## Explore the objects on your Figure\n",
    "Drill into the plotting objects with the help of tab-completion."
   ]
  },
  {
   "cell_type": "code",
   "execution_count": null,
   "metadata": {},
   "outputs": [],
   "source": []
  }
 ],
 "metadata": {
  "kernelspec": {
   "display_name": "Python 3",
   "language": "python",
   "name": "python3"
  },
  "language_info": {
   "codemirror_mode": {
    "name": "ipython",
    "version": 3
   },
   "file_extension": ".py",
   "mimetype": "text/x-python",
   "name": "python",
   "nbconvert_exporter": "python",
   "pygments_lexer": "ipython3",
   "version": "3.6.4"
  },
  "varInspector": {
   "cols": {
    "lenName": 16,
    "lenType": 16,
    "lenVar": 40
   },
   "kernels_config": {
    "python": {
     "delete_cmd_postfix": "",
     "delete_cmd_prefix": "del ",
     "library": "var_list.py",
     "varRefreshCmd": "print(var_dic_list())"
    },
    "r": {
     "delete_cmd_postfix": ") ",
     "delete_cmd_prefix": "rm(",
     "library": "var_list.r",
     "varRefreshCmd": "cat(var_dic_list()) "
    }
   },
   "types_to_exclude": [
    "module",
    "function",
    "builtin_function_or_method",
    "instance",
    "_Feature"
   ],
   "window_display": false
  }
 },
 "nbformat": 4,
 "nbformat_minor": 2
}
