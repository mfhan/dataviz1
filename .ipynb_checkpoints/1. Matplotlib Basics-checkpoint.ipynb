{
 "cells": [
  {
   "cell_type": "markdown",
   "metadata": {},
   "source": [
    "# Matplotlib Basics\n",
    "\n",
    "### Objectives\n",
    "After this lesson you should be able to ...\n",
    "\n",
    "1. Be aware of the two independent plotting interfaces for matplotlib - the state-machine environment and the object-oriented interface\n",
    "1. Plot using the object-oriented interface of matplotlib with **`fig, ax = plt.subplots...`**\n",
    "\n",
    "\n",
    "### Prepare for this lesson by...\n",
    "1. [Matplotlib homepage](http://matplotlib.org)\n",
    "1. [General Usage Notes](http://matplotlib.org/faq/usage_faq.html) <--- Very highly recommended. Read unitl 'What is a backend?'\n",
    "\n",
    "### Tutorials - Make sure to read the first two articles!\n",
    "1. [Object-oriented use of matplotlib](https://www.packtpub.com/books/content/advanced-matplotlib-part-1)\n",
    "1. [Another object-oriented tutorial](https://lectures.quantecon.org/py/matplotlib.html)\n",
    "1. [Extensive jupyter notebooks on matplotlib](https://github.com/WeatherGod/AnatomyOfMatplotlib)\n",
    "1. [Lots of examples](http://www.labri.fr/perso/nrougier/teaching/matplotlib/)\n",
    "1. [Good video series tutorial on matplotlib](https://pythonprogramming.net/matplotlib-intro-tutorial/)\n",
    "\n",
    "### Introduction\n",
    "**`matplotlib`** is a very popular and widely used plotting library in Python and for now is the default for most data scientists using Python. It was originally built to mimic the functionality of plotting with Matlab. \n",
    "\n",
    "## Two Interfaces\n",
    "There are two separate ways to interface with matplotlib. One is called the **`state-machine environment`** and the other is **object-oriented**. The state-machine environment (known as **pyplot** from here on out) is complex terminology for saying that matplotlib implicitly handles some of the plotting for you. \n",
    "\n",
    "The **object-oriented** approach gives you full control over each element of the plot and is the more Pythonic way of interacting with matplotlib. It is suggested you use the object-oriented approach. Nearly all plotting examples may be reproduced with either approach but the object-oriented approach is explicit and in my opinion easier to determine what is happening.\n",
    "\n",
    "### Using only the object-oriented approach\n",
    "This notebook will only use the object-oriented approach as it can be confusing to beginners to see both interfaces used at the same time. Many examples online use pyplot so it is valuable to learn. Much of the code between each approach will actually look very similar.\n",
    "\n",
    "## Getting Started\n",
    "To use matplotlib in Jupyter notebook you will need to run the magic command **`%matplotlib inline`** before making any plots. This embeds your plots directly into the output of the cells. We will actually use pyplot to get create our figure and axes. From here we will use the object-oriented approach for the remaining plotting commands.\n",
    "\n",
    "## Anatomy of a Figure\n",
    "![](images/fig_map.png)\n",
    "There is a hierarchy you must understand when plotting with matplotlib. The highest and outermost part of a plot is the **Figure**. The figure contains all the other plotting elements and you typically do not interact with it much. Inside the figure is the **Axes**. This is the actual plotting surface that you normally would call a 'plot'. \n",
    "\n",
    "A figure may contain any number of these **Axes**. The **Axes** is a container for all of the **artists**. The artists are all the physical pixels that get drawn onto your screen. This includes the x and y **axis**, lines, text, points, legends, images, etc...\n",
    "\n",
    "### Axes is a confusing word\n",
    "The term **Axes** is not actually plural and does not mean more than one axis. It literally stands for a single 'plot'. I'm not sure why matplotlib used such a horrible choice for such a fundamental part of the library but we are stuck with it.\n",
    "\n",
    "### Another anatomy figure\n",
    "Matplotlib has recently been updated to version 2.0 and they have a new image to represent the anatomy.\n",
    "![](images/figure_parts.png)"
   ]
  },
  {
   "cell_type": "code",
   "execution_count": 1,
   "metadata": {
    "collapsed": true
   },
   "outputs": [],
   "source": [
    "import pandas as pd\n",
    "import matplotlib.pyplot as plt\n",
    "%matplotlib inline"
   ]
  },
  {
   "cell_type": "markdown",
   "metadata": {},
   "source": [
    "### Create a blank figure\n",
    "There are a couple ways to begin plotting. First we will create just a blank figure and add an axes and then add a line."
   ]
  },
  {
   "cell_type": "code",
   "execution_count": 2,
   "metadata": {},
   "outputs": [
    {
     "data": {
      "text/plain": [
       "<matplotlib.figure.Figure at 0x10c9b7748>"
      ]
     },
     "metadata": {},
     "output_type": "display_data"
    }
   ],
   "source": [
    "fig = plt.figure()"
   ]
  },
  {
   "cell_type": "markdown",
   "metadata": {},
   "source": [
    "There's only a blank figure and no Axes so there is nothing to output yet."
   ]
  },
  {
   "cell_type": "code",
   "execution_count": 3,
   "metadata": {},
   "outputs": [
    {
     "data": {
      "text/plain": [
       "<matplotlib.figure.Figure at 0x10c9b7748>"
      ]
     },
     "execution_count": 3,
     "metadata": {},
     "output_type": "execute_result"
    }
   ],
   "source": [
    "fig"
   ]
  },
  {
   "cell_type": "markdown",
   "metadata": {},
   "source": [
    "Let's add an Axes. The **`add_subplot`** can add any number of Axes to your figure. You must provide it 3 numbers. The first is the number of rows, the second is the number of columns and the third is the Axes that you want returned.\n",
    "\n",
    "For instance, **`ax = fig.add_subplot(2, 1, 1)`** creates a single Axes from a 2 by 1 grid of possible Axes and saves it to **`ax`**."
   ]
  },
  {
   "cell_type": "code",
   "execution_count": 4,
   "metadata": {
    "collapsed": true
   },
   "outputs": [],
   "source": [
    "# ax controls the t\n",
    "ax = fig.add_subplot(2, 1, 1)"
   ]
  },
  {
   "cell_type": "markdown",
   "metadata": {},
   "source": [
    "Let's look at the figure now. It has a blank Axes. We are now ready to make a plot."
   ]
  },
  {
   "cell_type": "code",
   "execution_count": 5,
   "metadata": {},
   "outputs": [
    {
     "data": {
      "image/png": "[encoded data removed]",
      "text/plain": [
       "<matplotlib.figure.Figure at 0x10c9b7748>"
      ]
     },
     "execution_count": 5,
     "metadata": {},
     "output_type": "execute_result"
    }
   ],
   "source": [
    "fig"
   ]
  },
  {
   "cell_type": "markdown",
   "metadata": {},
   "source": [
    "### Plotting with your Axes\n",
    "You now have a single figure object with one Axes object. We continue to use the dot notation to access our Axes and add elements to it. The **`plot`** method creates a line plot by default. Let's create a simple one. Passing a single list to the **`plot`** method by default will have them plotted as y values. The x values default to 0 to n-1."
   ]
  },
  {
   "cell_type": "code",
   "execution_count": 6,
   "metadata": {},
   "outputs": [
    {
     "data": {
      "text/plain": [
       "[<matplotlib.lines.Line2D at 0x1150b4cf8>]"
      ]
     },
     "execution_count": 6,
     "metadata": {},
     "output_type": "execute_result"
    }
   ],
   "source": [
    "ax.plot([3, 8, 6])"
   ]
  },
  {
   "cell_type": "code",
   "execution_count": 7,
   "metadata": {},
   "outputs": [
    {
     "data": {
      "image/png": "[encoded data removed]",
      "text/plain": [
       "<matplotlib.figure.Figure at 0x10c9b7748>"
      ]
     },
     "execution_count": 7,
     "metadata": {},
     "output_type": "execute_result"
    }
   ],
   "source": [
    "fig"
   ]
  },
  {
   "cell_type": "markdown",
   "metadata": {},
   "source": [
    "Passing two lists (or numpy arrays) uses the first input as the x values and the second as the y values."
   ]
  },
  {
   "cell_type": "code",
   "execution_count": 8,
   "metadata": {},
   "outputs": [
    {
     "data": {
      "text/plain": [
       "[<matplotlib.lines.Line2D at 0x115063128>]"
      ]
     },
     "execution_count": 8,
     "metadata": {},
     "output_type": "execute_result"
    }
   ],
   "source": [
    "ax.plot([1, 5, 7], [10, -3, 6])"
   ]
  },
  {
   "cell_type": "code",
   "execution_count": 9,
   "metadata": {},
   "outputs": [
    {
     "data": {
      "image/png": "[encoded data removed]",
      "text/plain": [
       "<matplotlib.figure.Figure at 0x10c9b7748>"
      ]
     },
     "execution_count": 9,
     "metadata": {},
     "output_type": "execute_result"
    }
   ],
   "source": [
    "fig"
   ]
  },
  {
   "cell_type": "markdown",
   "metadata": {},
   "source": [
    "Use the third argument to control the line style color"
   ]
  },
  {
   "cell_type": "code",
   "execution_count": 10,
   "metadata": {},
   "outputs": [
    {
     "data": {
      "text/plain": [
       "[<matplotlib.lines.Line2D at 0x1150c9e80>]"
      ]
     },
     "execution_count": 10,
     "metadata": {},
     "output_type": "execute_result"
    }
   ],
   "source": [
    "ax.plot(range(10), range(10), 'r--')"
   ]
  },
  {
   "cell_type": "code",
   "execution_count": 11,
   "metadata": {},
   "outputs": [
    {
     "data": {
      "image/png": "[encoded data removed]",
      "text/plain": [
       "<matplotlib.figure.Figure at 0x10c9b7748>"
      ]
     },
     "execution_count": 11,
     "metadata": {},
     "output_type": "execute_result"
    }
   ],
   "source": [
    "fig"
   ]
  },
  {
   "cell_type": "markdown",
   "metadata": {},
   "source": [
    "### All line styles and markers available\n",
    "matplotlib has a strange syntax to control both the style of the line and the color. If you choose one of the styles below for then line and one color you may concatenate them to produce a unique line."
   ]
  },
  {
   "cell_type": "code",
   "execution_count": 12,
   "metadata": {},
   "outputs": [
    {
     "data": {
      "text/html": [
       "<div>\n",
       "<style>\n",
       "    .dataframe thead tr:only-child th {\n",
       "        text-align: right;\n",
       "    }\n",
       "\n",
       "    .dataframe thead th {\n",
       "        text-align: left;\n",
       "    }\n",
       "\n",
       "    .dataframe tbody tr th {\n",
       "        vertical-align: top;\n",
       "    }\n",
       "</style>\n",
       "<table border=\"1\" class=\"dataframe\">\n",
       "  <thead>\n",
       "    <tr style=\"text-align: right;\">\n",
       "      <th></th>\n",
       "      <th>character</th>\n",
       "      <th>description</th>\n",
       "    </tr>\n",
       "  </thead>\n",
       "  <tbody>\n",
       "    <tr>\n",
       "      <th>0</th>\n",
       "      <td>'-'</td>\n",
       "      <td>solid line style</td>\n",
       "    </tr>\n",
       "    <tr>\n",
       "      <th>1</th>\n",
       "      <td>'--'</td>\n",
       "      <td>dashed line style</td>\n",
       "    </tr>\n",
       "    <tr>\n",
       "      <th>2</th>\n",
       "      <td>'-.'</td>\n",
       "      <td>dash-dot line style</td>\n",
       "    </tr>\n",
       "    <tr>\n",
       "      <th>3</th>\n",
       "      <td>':'</td>\n",
       "      <td>dotted line style</td>\n",
       "    </tr>\n",
       "    <tr>\n",
       "      <th>4</th>\n",
       "      <td>'.'</td>\n",
       "      <td>point marker</td>\n",
       "    </tr>\n",
       "    <tr>\n",
       "      <th>5</th>\n",
       "      <td>','</td>\n",
       "      <td>pixel marker</td>\n",
       "    </tr>\n",
       "    <tr>\n",
       "      <th>6</th>\n",
       "      <td>'o'</td>\n",
       "      <td>circle marker</td>\n",
       "    </tr>\n",
       "    <tr>\n",
       "      <th>7</th>\n",
       "      <td>'v'</td>\n",
       "      <td>triangle_down marker</td>\n",
       "    </tr>\n",
       "    <tr>\n",
       "      <th>8</th>\n",
       "      <td>'^'</td>\n",
       "      <td>triangle_up marker</td>\n",
       "    </tr>\n",
       "    <tr>\n",
       "      <th>9</th>\n",
       "      <td>'&lt;'</td>\n",
       "      <td>triangle_left marker</td>\n",
       "    </tr>\n",
       "    <tr>\n",
       "      <th>10</th>\n",
       "      <td>'&gt;'</td>\n",
       "      <td>triangle_right marker</td>\n",
       "    </tr>\n",
       "    <tr>\n",
       "      <th>11</th>\n",
       "      <td>'1'</td>\n",
       "      <td>tri_down marker</td>\n",
       "    </tr>\n",
       "    <tr>\n",
       "      <th>12</th>\n",
       "      <td>'2'</td>\n",
       "      <td>tri_up marker</td>\n",
       "    </tr>\n",
       "    <tr>\n",
       "      <th>13</th>\n",
       "      <td>'3'</td>\n",
       "      <td>tri_left marker</td>\n",
       "    </tr>\n",
       "    <tr>\n",
       "      <th>14</th>\n",
       "      <td>'4'</td>\n",
       "      <td>tri_right marker</td>\n",
       "    </tr>\n",
       "    <tr>\n",
       "      <th>15</th>\n",
       "      <td>'s'</td>\n",
       "      <td>square marker</td>\n",
       "    </tr>\n",
       "    <tr>\n",
       "      <th>16</th>\n",
       "      <td>'p'</td>\n",
       "      <td>pentagon marker</td>\n",
       "    </tr>\n",
       "    <tr>\n",
       "      <th>17</th>\n",
       "      <td>'*'</td>\n",
       "      <td>star marker</td>\n",
       "    </tr>\n",
       "    <tr>\n",
       "      <th>18</th>\n",
       "      <td>'h'</td>\n",
       "      <td>hexagon1 marker</td>\n",
       "    </tr>\n",
       "    <tr>\n",
       "      <th>19</th>\n",
       "      <td>'H'</td>\n",
       "      <td>hexagon2 marker</td>\n",
       "    </tr>\n",
       "    <tr>\n",
       "      <th>20</th>\n",
       "      <td>'+'</td>\n",
       "      <td>plus marker</td>\n",
       "    </tr>\n",
       "    <tr>\n",
       "      <th>21</th>\n",
       "      <td>'x'</td>\n",
       "      <td>x marker</td>\n",
       "    </tr>\n",
       "    <tr>\n",
       "      <th>22</th>\n",
       "      <td>'D'</td>\n",
       "      <td>diamond marker</td>\n",
       "    </tr>\n",
       "    <tr>\n",
       "      <th>23</th>\n",
       "      <td>'d'</td>\n",
       "      <td>thin_diamond marker</td>\n",
       "    </tr>\n",
       "    <tr>\n",
       "      <th>24</th>\n",
       "      <td>'|'</td>\n",
       "      <td>vline marker</td>\n",
       "    </tr>\n",
       "    <tr>\n",
       "      <th>25</th>\n",
       "      <td>'_'</td>\n",
       "      <td>hline marker</td>\n",
       "    </tr>\n",
       "  </tbody>\n",
       "</table>\n",
       "</div>"
      ],
      "text/plain": [
       "   character            description\n",
       "0        '-'       solid line style\n",
       "1       '--'      dashed line style\n",
       "2       '-.'    dash-dot line style\n",
       "3        ':'      dotted line style\n",
       "4        '.'           point marker\n",
       "5        ','           pixel marker\n",
       "6        'o'          circle marker\n",
       "7        'v'   triangle_down marker\n",
       "8        '^'     triangle_up marker\n",
       "9        '<'   triangle_left marker\n",
       "10       '>'  triangle_right marker\n",
       "11       '1'        tri_down marker\n",
       "12       '2'          tri_up marker\n",
       "13       '3'        tri_left marker\n",
       "14       '4'       tri_right marker\n",
       "15       's'          square marker\n",
       "16       'p'        pentagon marker\n",
       "17       '*'            star marker\n",
       "18       'h'        hexagon1 marker\n",
       "19       'H'        hexagon2 marker\n",
       "20       '+'            plus marker\n",
       "21       'x'               x marker\n",
       "22       'D'         diamond marker\n",
       "23       'd'    thin_diamond marker\n",
       "24       '|'           vline marker\n",
       "25       '_'           hline marker"
      ]
     },
     "execution_count": 12,
     "metadata": {},
     "output_type": "execute_result"
    }
   ],
   "source": [
    "pd.read_csv('../data/line_styles.csv')"
   ]
  },
  {
   "cell_type": "markdown",
   "metadata": {},
   "source": [
    "### Colors"
   ]
  },
  {
   "cell_type": "code",
   "execution_count": 13,
   "metadata": {},
   "outputs": [
    {
     "data": {
      "text/html": [
       "<div>\n",
       "<style>\n",
       "    .dataframe thead tr:only-child th {\n",
       "        text-align: right;\n",
       "    }\n",
       "\n",
       "    .dataframe thead th {\n",
       "        text-align: left;\n",
       "    }\n",
       "\n",
       "    .dataframe tbody tr th {\n",
       "        vertical-align: top;\n",
       "    }\n",
       "</style>\n",
       "<table border=\"1\" class=\"dataframe\">\n",
       "  <thead>\n",
       "    <tr style=\"text-align: right;\">\n",
       "      <th></th>\n",
       "      <th>character</th>\n",
       "      <th>color</th>\n",
       "    </tr>\n",
       "  </thead>\n",
       "  <tbody>\n",
       "    <tr>\n",
       "      <th>0</th>\n",
       "      <td>‘b’</td>\n",
       "      <td>blue</td>\n",
       "    </tr>\n",
       "    <tr>\n",
       "      <th>1</th>\n",
       "      <td>‘g’</td>\n",
       "      <td>green</td>\n",
       "    </tr>\n",
       "    <tr>\n",
       "      <th>2</th>\n",
       "      <td>‘r’</td>\n",
       "      <td>red</td>\n",
       "    </tr>\n",
       "    <tr>\n",
       "      <th>3</th>\n",
       "      <td>‘c’</td>\n",
       "      <td>cyan</td>\n",
       "    </tr>\n",
       "    <tr>\n",
       "      <th>4</th>\n",
       "      <td>‘m’</td>\n",
       "      <td>magenta</td>\n",
       "    </tr>\n",
       "    <tr>\n",
       "      <th>5</th>\n",
       "      <td>‘y’</td>\n",
       "      <td>yellow</td>\n",
       "    </tr>\n",
       "    <tr>\n",
       "      <th>6</th>\n",
       "      <td>‘k’</td>\n",
       "      <td>black</td>\n",
       "    </tr>\n",
       "    <tr>\n",
       "      <th>7</th>\n",
       "      <td>‘w’</td>\n",
       "      <td>white</td>\n",
       "    </tr>\n",
       "  </tbody>\n",
       "</table>\n",
       "</div>"
      ],
      "text/plain": [
       "  character    color\n",
       "0       ‘b’     blue\n",
       "1       ‘g’    green\n",
       "2       ‘r’      red\n",
       "3       ‘c’     cyan\n",
       "4       ‘m’  magenta\n",
       "5       ‘y’   yellow\n",
       "6       ‘k’    black\n",
       "7       ‘w’    white"
      ]
     },
     "execution_count": 13,
     "metadata": {},
     "output_type": "execute_result"
    }
   ],
   "source": [
    "pd.read_csv('../data/colors.csv')"
   ]
  },
  {
   "cell_type": "code",
   "execution_count": 14,
   "metadata": {},
   "outputs": [
    {
     "data": {
      "text/plain": [
       "[<matplotlib.lines.Line2D at 0x115118f28>]"
      ]
     },
     "execution_count": 14,
     "metadata": {},
     "output_type": "execute_result"
    }
   ],
   "source": [
    "# create a black dashed line\n",
    "ax.plot([10, 10],[0, 10], '--k')"
   ]
  },
  {
   "cell_type": "code",
   "execution_count": 15,
   "metadata": {},
   "outputs": [
    {
     "data": {
      "image/png": "[encoded data removed]",
      "text/plain": [
       "<matplotlib.figure.Figure at 0x10c9b7748>"
      ]
     },
     "execution_count": 15,
     "metadata": {},
     "output_type": "execute_result"
    }
   ],
   "source": [
    "fig"
   ]
  },
  {
   "cell_type": "code",
   "execution_count": 16,
   "metadata": {},
   "outputs": [
    {
     "data": {
      "text/plain": [
       "[<matplotlib.lines.Line2D at 0x115092550>]"
      ]
     },
     "execution_count": 16,
     "metadata": {},
     "output_type": "execute_result"
    }
   ],
   "source": [
    "# the order does not matter for color and style\n",
    "ax.plot([0,2,5,7,10],[0,4,8,4,1], 'r>')"
   ]
  },
  {
   "cell_type": "code",
   "execution_count": 17,
   "metadata": {},
   "outputs": [
    {
     "data": {
      "image/png": "[encoded data removed]",
      "text/plain": [
       "<matplotlib.figure.Figure at 0x10c9b7748>"
      ]
     },
     "execution_count": 17,
     "metadata": {},
     "output_type": "execute_result"
    }
   ],
   "source": [
    "fig"
   ]
  },
  {
   "cell_type": "markdown",
   "metadata": {},
   "source": [
    "### colors\n",
    "There are many more possibly colors you can choose from than the eight from above. Using the **`color`** parameter, you can use any of the following color names.\n",
    "![](images/named_colors.png)"
   ]
  },
  {
   "cell_type": "code",
   "execution_count": 18,
   "metadata": {},
   "outputs": [
    {
     "data": {
      "image/png": "[encoded data removed]",
      "text/plain": [
       "<matplotlib.figure.Figure at 0x10c9b7748>"
      ]
     },
     "execution_count": 18,
     "metadata": {},
     "output_type": "execute_result"
    }
   ],
   "source": [
    "ax.plot([0,2,5,7,10],[6,2,-3,2,6], color='forestgreen', marker='D')\n",
    "fig"
   ]
  },
  {
   "cell_type": "markdown",
   "metadata": {},
   "source": [
    "### All line parametrs"
   ]
  },
  {
   "cell_type": "code",
   "execution_count": 19,
   "metadata": {},
   "outputs": [
    {
     "data": {
      "text/html": [
       "<div>\n",
       "<style>\n",
       "    .dataframe thead tr:only-child th {\n",
       "        text-align: right;\n",
       "    }\n",
       "\n",
       "    .dataframe thead th {\n",
       "        text-align: left;\n",
       "    }\n",
       "\n",
       "    .dataframe tbody tr th {\n",
       "        vertical-align: top;\n",
       "    }\n",
       "</style>\n",
       "<table border=\"1\" class=\"dataframe\">\n",
       "  <thead>\n",
       "    <tr style=\"text-align: right;\">\n",
       "      <th></th>\n",
       "      <th>Property</th>\n",
       "      <th>Description</th>\n",
       "    </tr>\n",
       "  </thead>\n",
       "  <tbody>\n",
       "    <tr>\n",
       "      <th>0</th>\n",
       "      <td>agg_filter</td>\n",
       "      <td>unknown</td>\n",
       "    </tr>\n",
       "    <tr>\n",
       "      <th>1</th>\n",
       "      <td>alpha</td>\n",
       "      <td>float (0.0 transparent through 1.0 opaque)</td>\n",
       "    </tr>\n",
       "    <tr>\n",
       "      <th>2</th>\n",
       "      <td>animated</td>\n",
       "      <td>[True | False]</td>\n",
       "    </tr>\n",
       "    <tr>\n",
       "      <th>3</th>\n",
       "      <td>antialiased or aa</td>\n",
       "      <td>[True | False]</td>\n",
       "    </tr>\n",
       "    <tr>\n",
       "      <th>4</th>\n",
       "      <td>axes</td>\n",
       "      <td>an Axes instance</td>\n",
       "    </tr>\n",
       "    <tr>\n",
       "      <th>5</th>\n",
       "      <td>clip_box</td>\n",
       "      <td>a matplotlib.transforms.Bbox instance</td>\n",
       "    </tr>\n",
       "    <tr>\n",
       "      <th>6</th>\n",
       "      <td>clip_on</td>\n",
       "      <td>[True | False]</td>\n",
       "    </tr>\n",
       "    <tr>\n",
       "      <th>7</th>\n",
       "      <td>clip_path</td>\n",
       "      <td>[ (Path, Transform) | Patch | None ]</td>\n",
       "    </tr>\n",
       "    <tr>\n",
       "      <th>8</th>\n",
       "      <td>color or c</td>\n",
       "      <td>any matplotlib color</td>\n",
       "    </tr>\n",
       "    <tr>\n",
       "      <th>9</th>\n",
       "      <td>contains</td>\n",
       "      <td>a callable function</td>\n",
       "    </tr>\n",
       "    <tr>\n",
       "      <th>10</th>\n",
       "      <td>dash_capstyle</td>\n",
       "      <td>[‘butt’ | ‘round’ | ‘projecting’]</td>\n",
       "    </tr>\n",
       "    <tr>\n",
       "      <th>11</th>\n",
       "      <td>dash_joinstyle</td>\n",
       "      <td>[‘miter’ | ‘round’ | ‘bevel’]</td>\n",
       "    </tr>\n",
       "    <tr>\n",
       "      <th>12</th>\n",
       "      <td>dashes</td>\n",
       "      <td>sequence of on/off ink in points</td>\n",
       "    </tr>\n",
       "    <tr>\n",
       "      <th>13</th>\n",
       "      <td>drawstyle</td>\n",
       "      <td>[‘default’ | ‘steps’ | ‘steps-pre’ | ‘steps-mi...</td>\n",
       "    </tr>\n",
       "    <tr>\n",
       "      <th>14</th>\n",
       "      <td>figure</td>\n",
       "      <td>a matplotlib.figure.Figure instance</td>\n",
       "    </tr>\n",
       "    <tr>\n",
       "      <th>15</th>\n",
       "      <td>fillstyle</td>\n",
       "      <td>[‘full’ | ‘left’ | ‘right’ | ‘bottom’ | ‘top’ ...</td>\n",
       "    </tr>\n",
       "    <tr>\n",
       "      <th>16</th>\n",
       "      <td>gid</td>\n",
       "      <td>an id string</td>\n",
       "    </tr>\n",
       "    <tr>\n",
       "      <th>17</th>\n",
       "      <td>label</td>\n",
       "      <td>string or anything printable with ‘%s’ convers...</td>\n",
       "    </tr>\n",
       "    <tr>\n",
       "      <th>18</th>\n",
       "      <td>linestyle or ls</td>\n",
       "      <td>[‘solid’ | ‘dashed’, ‘dashdot’, ‘dotted’ | (of...</td>\n",
       "    </tr>\n",
       "    <tr>\n",
       "      <th>19</th>\n",
       "      <td>linewidth or lw</td>\n",
       "      <td>float value in points</td>\n",
       "    </tr>\n",
       "    <tr>\n",
       "      <th>20</th>\n",
       "      <td>marker</td>\n",
       "      <td>A valid marker style</td>\n",
       "    </tr>\n",
       "    <tr>\n",
       "      <th>21</th>\n",
       "      <td>markeredgecolor or mec</td>\n",
       "      <td>any matplotlib color</td>\n",
       "    </tr>\n",
       "    <tr>\n",
       "      <th>22</th>\n",
       "      <td>markeredgewidth or mew</td>\n",
       "      <td>float value in points</td>\n",
       "    </tr>\n",
       "    <tr>\n",
       "      <th>23</th>\n",
       "      <td>markerfacecolor or mfc</td>\n",
       "      <td>any matplotlib color</td>\n",
       "    </tr>\n",
       "    <tr>\n",
       "      <th>24</th>\n",
       "      <td>markerfacecoloralt or mfcalt</td>\n",
       "      <td>any matplotlib color</td>\n",
       "    </tr>\n",
       "    <tr>\n",
       "      <th>25</th>\n",
       "      <td>markersize or ms</td>\n",
       "      <td>float</td>\n",
       "    </tr>\n",
       "    <tr>\n",
       "      <th>26</th>\n",
       "      <td>markevery</td>\n",
       "      <td>[None | int | length-2 tuple of int | slice | ...</td>\n",
       "    </tr>\n",
       "    <tr>\n",
       "      <th>27</th>\n",
       "      <td>path_effects</td>\n",
       "      <td>unknown</td>\n",
       "    </tr>\n",
       "    <tr>\n",
       "      <th>28</th>\n",
       "      <td>picker</td>\n",
       "      <td>float distance in points or callable pick func...</td>\n",
       "    </tr>\n",
       "    <tr>\n",
       "      <th>29</th>\n",
       "      <td>pickradius</td>\n",
       "      <td>float distance in points</td>\n",
       "    </tr>\n",
       "    <tr>\n",
       "      <th>30</th>\n",
       "      <td>rasterized</td>\n",
       "      <td>[True | False | None]</td>\n",
       "    </tr>\n",
       "    <tr>\n",
       "      <th>31</th>\n",
       "      <td>sketch_params</td>\n",
       "      <td>unknown</td>\n",
       "    </tr>\n",
       "    <tr>\n",
       "      <th>32</th>\n",
       "      <td>snap</td>\n",
       "      <td>unknown</td>\n",
       "    </tr>\n",
       "    <tr>\n",
       "      <th>33</th>\n",
       "      <td>solid_capstyle</td>\n",
       "      <td>[‘butt’ | ‘round’ | ‘projecting’]</td>\n",
       "    </tr>\n",
       "    <tr>\n",
       "      <th>34</th>\n",
       "      <td>solid_joinstyle</td>\n",
       "      <td>[‘miter’ | ‘round’ | ‘bevel’]</td>\n",
       "    </tr>\n",
       "    <tr>\n",
       "      <th>35</th>\n",
       "      <td>transform</td>\n",
       "      <td>a matplotlib.transforms.Transform instance</td>\n",
       "    </tr>\n",
       "    <tr>\n",
       "      <th>36</th>\n",
       "      <td>url</td>\n",
       "      <td>a url string</td>\n",
       "    </tr>\n",
       "    <tr>\n",
       "      <th>37</th>\n",
       "      <td>visible</td>\n",
       "      <td>[True | False]</td>\n",
       "    </tr>\n",
       "    <tr>\n",
       "      <th>38</th>\n",
       "      <td>xdata</td>\n",
       "      <td>1D array</td>\n",
       "    </tr>\n",
       "    <tr>\n",
       "      <th>39</th>\n",
       "      <td>ydata</td>\n",
       "      <td>1D array</td>\n",
       "    </tr>\n",
       "    <tr>\n",
       "      <th>40</th>\n",
       "      <td>zorder</td>\n",
       "      <td>any number</td>\n",
       "    </tr>\n",
       "  </tbody>\n",
       "</table>\n",
       "</div>"
      ],
      "text/plain": [
       "                        Property  \\\n",
       "0                     agg_filter   \n",
       "1                          alpha   \n",
       "2                       animated   \n",
       "3              antialiased or aa   \n",
       "4                           axes   \n",
       "5                       clip_box   \n",
       "6                        clip_on   \n",
       "7                      clip_path   \n",
       "8                     color or c   \n",
       "9                       contains   \n",
       "10                 dash_capstyle   \n",
       "11                dash_joinstyle   \n",
       "12                        dashes   \n",
       "13                     drawstyle   \n",
       "14                        figure   \n",
       "15                     fillstyle   \n",
       "16                           gid   \n",
       "17                         label   \n",
       "18               linestyle or ls   \n",
       "19               linewidth or lw   \n",
       "20                        marker   \n",
       "21        markeredgecolor or mec   \n",
       "22        markeredgewidth or mew   \n",
       "23        markerfacecolor or mfc   \n",
       "24  markerfacecoloralt or mfcalt   \n",
       "25              markersize or ms   \n",
       "26                     markevery   \n",
       "27                  path_effects   \n",
       "28                        picker   \n",
       "29                    pickradius   \n",
       "30                    rasterized   \n",
       "31                 sketch_params   \n",
       "32                          snap   \n",
       "33                solid_capstyle   \n",
       "34               solid_joinstyle   \n",
       "35                     transform   \n",
       "36                           url   \n",
       "37                       visible   \n",
       "38                         xdata   \n",
       "39                         ydata   \n",
       "40                        zorder   \n",
       "\n",
       "                                          Description  \n",
       "0                                             unknown  \n",
       "1          float (0.0 transparent through 1.0 opaque)  \n",
       "2                                      [True | False]  \n",
       "3                                      [True | False]  \n",
       "4                                    an Axes instance  \n",
       "5               a matplotlib.transforms.Bbox instance  \n",
       "6                                      [True | False]  \n",
       "7                [ (Path, Transform) | Patch | None ]  \n",
       "8                                any matplotlib color  \n",
       "9                                 a callable function  \n",
       "10                  [‘butt’ | ‘round’ | ‘projecting’]  \n",
       "11                      [‘miter’ | ‘round’ | ‘bevel’]  \n",
       "12                   sequence of on/off ink in points  \n",
       "13  [‘default’ | ‘steps’ | ‘steps-pre’ | ‘steps-mi...  \n",
       "14                a matplotlib.figure.Figure instance  \n",
       "15  [‘full’ | ‘left’ | ‘right’ | ‘bottom’ | ‘top’ ...  \n",
       "16                                       an id string  \n",
       "17  string or anything printable with ‘%s’ convers...  \n",
       "18  [‘solid’ | ‘dashed’, ‘dashdot’, ‘dotted’ | (of...  \n",
       "19                              float value in points  \n",
       "20                               A valid marker style  \n",
       "21                               any matplotlib color  \n",
       "22                              float value in points  \n",
       "23                               any matplotlib color  \n",
       "24                               any matplotlib color  \n",
       "25                                              float  \n",
       "26  [None | int | length-2 tuple of int | slice | ...  \n",
       "27                                            unknown  \n",
       "28  float distance in points or callable pick func...  \n",
       "29                           float distance in points  \n",
       "30                              [True | False | None]  \n",
       "31                                            unknown  \n",
       "32                                            unknown  \n",
       "33                  [‘butt’ | ‘round’ | ‘projecting’]  \n",
       "34                      [‘miter’ | ‘round’ | ‘bevel’]  \n",
       "35         a matplotlib.transforms.Transform instance  \n",
       "36                                       a url string  \n",
       "37                                     [True | False]  \n",
       "38                                           1D array  \n",
       "39                                           1D array  \n",
       "40                                         any number  "
      ]
     },
     "execution_count": 19,
     "metadata": {},
     "output_type": "execute_result"
    }
   ],
   "source": [
    "pd.read_csv('../data/line_options.csv')"
   ]
  },
  {
   "cell_type": "markdown",
   "metadata": {},
   "source": [
    "### Add another subplot to the same figure\n",
    "Use several of the line parameters."
   ]
  },
  {
   "cell_type": "code",
   "execution_count": 20,
   "metadata": {
    "collapsed": true
   },
   "outputs": [],
   "source": [
    "import numpy as np"
   ]
  },
  {
   "cell_type": "code",
   "execution_count": 21,
   "metadata": {
    "collapsed": true
   },
   "outputs": [],
   "source": [
    "x = np.arange(-5,10,2)\n",
    "y = x ** 2 - 5 * x - 4"
   ]
  },
  {
   "cell_type": "code",
   "execution_count": 22,
   "metadata": {
    "collapsed": true
   },
   "outputs": [],
   "source": [
    "ax2 = fig.add_subplot(2,1,2)"
   ]
  },
  {
   "cell_type": "code",
   "execution_count": 23,
   "metadata": {},
   "outputs": [
    {
     "data": {
      "image/png": "[encoded data removed]",
      "text/plain": [
       "<matplotlib.figure.Figure at 0x10c9b7748>"
      ]
     },
     "execution_count": 23,
     "metadata": {},
     "output_type": "execute_result"
    }
   ],
   "source": [
    "ax2.plot(x, y, markersize=10, \n",
    "               fillstyle='left', \n",
    "               marker='o',\n",
    "               markeredgecolor = 'rebeccapurple',\n",
    "               markeredgewidth=3,\n",
    "               color='hotpink',\n",
    "               linewidth=3,\n",
    "               alpha=.4)\n",
    "fig"
   ]
  },
  {
   "cell_type": "markdown",
   "metadata": {},
   "source": [
    "### Explore Figure and Axes together with dot notation\n",
    "We will use the space to dive deep into all the components of the figure and Axes."
   ]
  },
  {
   "cell_type": "code",
   "execution_count": 24,
   "metadata": {
    "collapsed": true
   },
   "outputs": [],
   "source": [
    "# your code here"
   ]
  },
  {
   "cell_type": "markdown",
   "metadata": {},
   "source": [
    "## Alternate way to begin plotting\n",
    "It is possible to create a figure and many Axes with the **`plt.subplots`** function. This returns a tuple of the figure and the all the Axes. This is a more common way to begin plotting."
   ]
  },
  {
   "cell_type": "code",
   "execution_count": 25,
   "metadata": {},
   "outputs": [
    {
     "data": {
      "image/png": "[encoded data removed]",
      "text/plain": [
       "<matplotlib.figure.Figure at 0x1151646a0>"
      ]
     },
     "metadata": {},
     "output_type": "display_data"
    }
   ],
   "source": [
    "fig, ax = plt.subplots(2,1, figsize=(12,8))"
   ]
  },
  {
   "cell_type": "markdown",
   "metadata": {},
   "source": [
    "### What is the ax object?"
   ]
  },
  {
   "cell_type": "code",
   "execution_count": 26,
   "metadata": {},
   "outputs": [
    {
     "data": {
      "text/plain": [
       "numpy.ndarray"
      ]
     },
     "execution_count": 26,
     "metadata": {},
     "output_type": "execute_result"
    }
   ],
   "source": [
    "type(ax)"
   ]
  },
  {
   "cell_type": "code",
   "execution_count": 27,
   "metadata": {},
   "outputs": [
    {
     "data": {
      "text/plain": [
       "array([<matplotlib.axes._subplots.AxesSubplot object at 0x1151d2160>,\n",
       "       <matplotlib.axes._subplots.AxesSubplot object at 0x1152b8f28>], dtype=object)"
      ]
     },
     "execution_count": 27,
     "metadata": {},
     "output_type": "execute_result"
    }
   ],
   "source": [
    "ax"
   ]
  },
  {
   "cell_type": "code",
   "execution_count": 28,
   "metadata": {},
   "outputs": [
    {
     "data": {
      "text/plain": [
       "(2,)"
      ]
     },
     "execution_count": 28,
     "metadata": {},
     "output_type": "execute_result"
    }
   ],
   "source": [
    "ax.shape"
   ]
  },
  {
   "cell_type": "markdown",
   "metadata": {},
   "source": [
    "### Select a single Axes with [row, column] notation\n",
    "Since **`ax`** is a number array, you can select individual Axes and save them to variables."
   ]
  },
  {
   "cell_type": "code",
   "execution_count": 29,
   "metadata": {},
   "outputs": [
    {
     "data": {
      "text/plain": [
       "<matplotlib.axes._subplots.AxesSubplot at 0x1151d2160>"
      ]
     },
     "execution_count": 29,
     "metadata": {},
     "output_type": "execute_result"
    }
   ],
   "source": [
    "ax1 = ax[0]\n",
    "ax1"
   ]
  },
  {
   "cell_type": "markdown",
   "metadata": {},
   "source": [
    "### Use flights data"
   ]
  },
  {
   "cell_type": "code",
   "execution_count": 30,
   "metadata": {},
   "outputs": [
    {
     "data": {
      "text/html": [
       "<div>\n",
       "<style>\n",
       "    .dataframe thead tr:only-child th {\n",
       "        text-align: right;\n",
       "    }\n",
       "\n",
       "    .dataframe thead th {\n",
       "        text-align: left;\n",
       "    }\n",
       "\n",
       "    .dataframe tbody tr th {\n",
       "        vertical-align: top;\n",
       "    }\n",
       "</style>\n",
       "<table border=\"1\" class=\"dataframe\">\n",
       "  <thead>\n",
       "    <tr style=\"text-align: right;\">\n",
       "      <th></th>\n",
       "      <th>YEAR</th>\n",
       "      <th>MONTH</th>\n",
       "      <th>DAY</th>\n",
       "      <th>DAY_OF_WEEK</th>\n",
       "      <th>AIRLINE</th>\n",
       "      <th>FLIGHT_NUMBER</th>\n",
       "      <th>TAIL_NUMBER</th>\n",
       "      <th>ORIGIN_AIRPORT</th>\n",
       "      <th>DESTINATION_AIRPORT</th>\n",
       "      <th>SCHEDULED_DEPARTURE</th>\n",
       "      <th>DEPARTURE_TIME</th>\n",
       "      <th>DEPARTURE_DELAY</th>\n",
       "      <th>TAXI_OUT</th>\n",
       "      <th>WHEELS_OFF</th>\n",
       "      <th>SCHEDULED_TIME</th>\n",
       "      <th>ELAPSED_TIME</th>\n",
       "      <th>AIR_TIME</th>\n",
       "      <th>DISTANCE</th>\n",
       "      <th>WHEELS_ON</th>\n",
       "      <th>TAXI_IN</th>\n",
       "      <th>SCHEDULED_ARRIVAL</th>\n",
       "      <th>ARRIVAL_TIME</th>\n",
       "      <th>ARRIVAL_DELAY</th>\n",
       "      <th>DIVERTED</th>\n",
       "      <th>CANCELLED</th>\n",
       "      <th>CANCELLATION_REASON</th>\n",
       "      <th>AIR_SYSTEM_DELAY</th>\n",
       "      <th>SECURITY_DELAY</th>\n",
       "      <th>AIRLINE_DELAY</th>\n",
       "      <th>LATE_AIRCRAFT_DELAY</th>\n",
       "      <th>WEATHER_DELAY</th>\n",
       "    </tr>\n",
       "  </thead>\n",
       "  <tbody>\n",
       "    <tr>\n",
       "      <th>1536</th>\n",
       "      <td>2015</td>\n",
       "      <td>1</td>\n",
       "      <td>10</td>\n",
       "      <td>6</td>\n",
       "      <td>NK</td>\n",
       "      <td>470</td>\n",
       "      <td>N515NK</td>\n",
       "      <td>DFW</td>\n",
       "      <td>FLL</td>\n",
       "      <td>1642</td>\n",
       "      <td>1641.0</td>\n",
       "      <td>-1.0</td>\n",
       "      <td>16.0</td>\n",
       "      <td>1657.0</td>\n",
       "      <td>164.0</td>\n",
       "      <td>161.0</td>\n",
       "      <td>138.0</td>\n",
       "      <td>1119</td>\n",
       "      <td>2015.0</td>\n",
       "      <td>7.0</td>\n",
       "      <td>2026</td>\n",
       "      <td>2022.0</td>\n",
       "      <td>-4.0</td>\n",
       "      <td>0</td>\n",
       "      <td>0</td>\n",
       "      <td>NaN</td>\n",
       "      <td>NaN</td>\n",
       "      <td>NaN</td>\n",
       "      <td>NaN</td>\n",
       "      <td>NaN</td>\n",
       "      <td>NaN</td>\n",
       "    </tr>\n",
       "    <tr>\n",
       "      <th>18641</th>\n",
       "      <td>2015</td>\n",
       "      <td>4</td>\n",
       "      <td>20</td>\n",
       "      <td>1</td>\n",
       "      <td>NK</td>\n",
       "      <td>561</td>\n",
       "      <td>N607NK</td>\n",
       "      <td>DEN</td>\n",
       "      <td>LAS</td>\n",
       "      <td>1148</td>\n",
       "      <td>1143.0</td>\n",
       "      <td>-5.0</td>\n",
       "      <td>10.0</td>\n",
       "      <td>1153.0</td>\n",
       "      <td>112.0</td>\n",
       "      <td>98.0</td>\n",
       "      <td>85.0</td>\n",
       "      <td>628</td>\n",
       "      <td>1218.0</td>\n",
       "      <td>3.0</td>\n",
       "      <td>1240</td>\n",
       "      <td>1221.0</td>\n",
       "      <td>-19.0</td>\n",
       "      <td>0</td>\n",
       "      <td>0</td>\n",
       "      <td>NaN</td>\n",
       "      <td>NaN</td>\n",
       "      <td>NaN</td>\n",
       "      <td>NaN</td>\n",
       "      <td>NaN</td>\n",
       "      <td>NaN</td>\n",
       "    </tr>\n",
       "    <tr>\n",
       "      <th>13397</th>\n",
       "      <td>2015</td>\n",
       "      <td>3</td>\n",
       "      <td>22</td>\n",
       "      <td>7</td>\n",
       "      <td>AA</td>\n",
       "      <td>1389</td>\n",
       "      <td>N4WKAA</td>\n",
       "      <td>LAS</td>\n",
       "      <td>DFW</td>\n",
       "      <td>1905</td>\n",
       "      <td>1921.0</td>\n",
       "      <td>16.0</td>\n",
       "      <td>18.0</td>\n",
       "      <td>1939.0</td>\n",
       "      <td>153.0</td>\n",
       "      <td>145.0</td>\n",
       "      <td>123.0</td>\n",
       "      <td>1055</td>\n",
       "      <td>2342.0</td>\n",
       "      <td>4.0</td>\n",
       "      <td>2338</td>\n",
       "      <td>2346.0</td>\n",
       "      <td>8.0</td>\n",
       "      <td>0</td>\n",
       "      <td>0</td>\n",
       "      <td>NaN</td>\n",
       "      <td>NaN</td>\n",
       "      <td>NaN</td>\n",
       "      <td>NaN</td>\n",
       "      <td>NaN</td>\n",
       "      <td>NaN</td>\n",
       "    </tr>\n",
       "    <tr>\n",
       "      <th>53637</th>\n",
       "      <td>2015</td>\n",
       "      <td>12</td>\n",
       "      <td>2</td>\n",
       "      <td>3</td>\n",
       "      <td>DL</td>\n",
       "      <td>569</td>\n",
       "      <td>N972DL</td>\n",
       "      <td>ATL</td>\n",
       "      <td>JFK</td>\n",
       "      <td>1735</td>\n",
       "      <td>1845.0</td>\n",
       "      <td>70.0</td>\n",
       "      <td>24.0</td>\n",
       "      <td>1909.0</td>\n",
       "      <td>148.0</td>\n",
       "      <td>168.0</td>\n",
       "      <td>138.0</td>\n",
       "      <td>760</td>\n",
       "      <td>2127.0</td>\n",
       "      <td>6.0</td>\n",
       "      <td>2003</td>\n",
       "      <td>2133.0</td>\n",
       "      <td>90.0</td>\n",
       "      <td>0</td>\n",
       "      <td>0</td>\n",
       "      <td>NaN</td>\n",
       "      <td>90.0</td>\n",
       "      <td>0.0</td>\n",
       "      <td>0.0</td>\n",
       "      <td>0.0</td>\n",
       "      <td>0.0</td>\n",
       "    </tr>\n",
       "    <tr>\n",
       "      <th>3424</th>\n",
       "      <td>2015</td>\n",
       "      <td>1</td>\n",
       "      <td>22</td>\n",
       "      <td>4</td>\n",
       "      <td>AA</td>\n",
       "      <td>188</td>\n",
       "      <td>N3BXAA</td>\n",
       "      <td>DFW</td>\n",
       "      <td>RSW</td>\n",
       "      <td>1405</td>\n",
       "      <td>1608.0</td>\n",
       "      <td>123.0</td>\n",
       "      <td>19.0</td>\n",
       "      <td>1627.0</td>\n",
       "      <td>145.0</td>\n",
       "      <td>153.0</td>\n",
       "      <td>126.0</td>\n",
       "      <td>1017</td>\n",
       "      <td>1933.0</td>\n",
       "      <td>8.0</td>\n",
       "      <td>1730</td>\n",
       "      <td>1941.0</td>\n",
       "      <td>131.0</td>\n",
       "      <td>0</td>\n",
       "      <td>0</td>\n",
       "      <td>NaN</td>\n",
       "      <td>8.0</td>\n",
       "      <td>0.0</td>\n",
       "      <td>102.0</td>\n",
       "      <td>21.0</td>\n",
       "      <td>0.0</td>\n",
       "    </tr>\n",
       "  </tbody>\n",
       "</table>\n",
       "</div>"
      ],
      "text/plain": [
       "       YEAR  MONTH  DAY  DAY_OF_WEEK AIRLINE  FLIGHT_NUMBER TAIL_NUMBER  \\\n",
       "1536   2015      1   10            6      NK            470      N515NK   \n",
       "18641  2015      4   20            1      NK            561      N607NK   \n",
       "13397  2015      3   22            7      AA           1389      N4WKAA   \n",
       "53637  2015     12    2            3      DL            569      N972DL   \n",
       "3424   2015      1   22            4      AA            188      N3BXAA   \n",
       "\n",
       "      ORIGIN_AIRPORT DESTINATION_AIRPORT  SCHEDULED_DEPARTURE  DEPARTURE_TIME  \\\n",
       "1536             DFW                 FLL                 1642          1641.0   \n",
       "18641            DEN                 LAS                 1148          1143.0   \n",
       "13397            LAS                 DFW                 1905          1921.0   \n",
       "53637            ATL                 JFK                 1735          1845.0   \n",
       "3424             DFW                 RSW                 1405          1608.0   \n",
       "\n",
       "       DEPARTURE_DELAY  TAXI_OUT  WHEELS_OFF  SCHEDULED_TIME  ELAPSED_TIME  \\\n",
       "1536              -1.0      16.0      1657.0           164.0         161.0   \n",
       "18641             -5.0      10.0      1153.0           112.0          98.0   \n",
       "13397             16.0      18.0      1939.0           153.0         145.0   \n",
       "53637             70.0      24.0      1909.0           148.0         168.0   \n",
       "3424             123.0      19.0      1627.0           145.0         153.0   \n",
       "\n",
       "       AIR_TIME  DISTANCE  WHEELS_ON  TAXI_IN  SCHEDULED_ARRIVAL  \\\n",
       "1536      138.0      1119     2015.0      7.0               2026   \n",
       "18641      85.0       628     1218.0      3.0               1240   \n",
       "13397     123.0      1055     2342.0      4.0               2338   \n",
       "53637     138.0       760     2127.0      6.0               2003   \n",
       "3424      126.0      1017     1933.0      8.0               1730   \n",
       "\n",
       "       ARRIVAL_TIME  ARRIVAL_DELAY  DIVERTED  CANCELLED CANCELLATION_REASON  \\\n",
       "1536         2022.0           -4.0         0          0                 NaN   \n",
       "18641        1221.0          -19.0         0          0                 NaN   \n",
       "13397        2346.0            8.0         0          0                 NaN   \n",
       "53637        2133.0           90.0         0          0                 NaN   \n",
       "3424         1941.0          131.0         0          0                 NaN   \n",
       "\n",
       "       AIR_SYSTEM_DELAY  SECURITY_DELAY  AIRLINE_DELAY  LATE_AIRCRAFT_DELAY  \\\n",
       "1536                NaN             NaN            NaN                  NaN   \n",
       "18641               NaN             NaN            NaN                  NaN   \n",
       "13397               NaN             NaN            NaN                  NaN   \n",
       "53637              90.0             0.0            0.0                  0.0   \n",
       "3424                8.0             0.0          102.0                 21.0   \n",
       "\n",
       "       WEATHER_DELAY  \n",
       "1536             NaN  \n",
       "18641            NaN  \n",
       "13397            NaN  \n",
       "53637            0.0  \n",
       "3424             0.0  "
      ]
     },
     "execution_count": 30,
     "metadata": {},
     "output_type": "execute_result"
    }
   ],
   "source": [
    "pd.options.display.max_columns = 40\n",
    "flights = pd.read_csv('../data/flights.csv')\n",
    "flights = flights.sample(frac=.05)\n",
    "flights.head()"
   ]
  },
  {
   "cell_type": "code",
   "execution_count": 31,
   "metadata": {},
   "outputs": [
    {
     "data": {
      "text/plain": [
       "(2925, 31)"
      ]
     },
     "execution_count": 31,
     "metadata": {},
     "output_type": "execute_result"
    }
   ],
   "source": [
    "flights.shape"
   ]
  },
  {
   "cell_type": "markdown",
   "metadata": {},
   "source": [
    "### Createa a scatterplot\n",
    "Although you can create a scatter plot with the **`.plot`** method, there exists a **`.scatter`** method which allows for customized control over every point."
   ]
  },
  {
   "cell_type": "code",
   "execution_count": 32,
   "metadata": {},
   "outputs": [
    {
     "data": {
      "text/plain": [
       "<matplotlib.text.Text at 0x11528d518>"
      ]
     },
     "execution_count": 32,
     "metadata": {},
     "output_type": "execute_result"
    }
   ],
   "source": [
    "ax1.scatter('DISTANCE', 'AIR_TIME', data=flights, s=.2)\n",
    "ax1.set_title('Distance vs Air Time')"
   ]
  },
  {
   "cell_type": "markdown",
   "metadata": {},
   "source": [
    "Sometimes your plots will be crowded. Use the figure method **`tight_layout`** and the spacing should automatically fix itself."
   ]
  },
  {
   "cell_type": "code",
   "execution_count": 33,
   "metadata": {
    "collapsed": true
   },
   "outputs": [],
   "source": [
    "fig.tight_layout()"
   ]
  },
  {
   "cell_type": "code",
   "execution_count": 34,
   "metadata": {},
   "outputs": [
    {
     "data": {
      "image/png": "[encoded data removed]",
      "text/plain": [
       "<matplotlib.figure.Figure at 0x1151646a0>"
      ]
     },
     "execution_count": 34,
     "metadata": {},
     "output_type": "execute_result"
    }
   ],
   "source": [
    "fig"
   ]
  },
  {
   "cell_type": "markdown",
   "metadata": {},
   "source": [
    "### Reproducing the scatter plot with `.plot`"
   ]
  },
  {
   "cell_type": "code",
   "execution_count": 35,
   "metadata": {},
   "outputs": [
    {
     "data": {
      "text/plain": [
       "[<matplotlib.lines.Line2D at 0x115918518>]"
      ]
     },
     "execution_count": 35,
     "metadata": {},
     "output_type": "execute_result"
    },
    {
     "data": {
      "image/png": "[encoded data removed]",
      "text/plain": [
       "<matplotlib.figure.Figure at 0x115918978>"
      ]
     },
     "metadata": {},
     "output_type": "display_data"
    }
   ],
   "source": [
    "fig1, ax_0 = plt.subplots(1,1, figsize=(12,4))\n",
    "ax_0.plot('DISTANCE', 'AIR_TIME', data=flights, marker='.', markersize=.2, linestyle=' ')"
   ]
  },
  {
   "cell_type": "markdown",
   "metadata": {},
   "source": [
    "### Plotting in other Axes"
   ]
  },
  {
   "cell_type": "code",
   "execution_count": 36,
   "metadata": {},
   "outputs": [
    {
     "data": {
      "text/html": [
       "<div>\n",
       "<style>\n",
       "    .dataframe thead tr:only-child th {\n",
       "        text-align: right;\n",
       "    }\n",
       "\n",
       "    .dataframe thead th {\n",
       "        text-align: left;\n",
       "    }\n",
       "\n",
       "    .dataframe tbody tr th {\n",
       "        vertical-align: top;\n",
       "    }\n",
       "</style>\n",
       "<table border=\"1\" class=\"dataframe\">\n",
       "  <thead>\n",
       "    <tr style=\"text-align: right;\">\n",
       "      <th></th>\n",
       "      <th>DEPARTURE_DELAY</th>\n",
       "      <th>AIRLINE_DELAY</th>\n",
       "    </tr>\n",
       "  </thead>\n",
       "  <tbody>\n",
       "    <tr>\n",
       "      <th>3424</th>\n",
       "      <td>123.0</td>\n",
       "      <td>102.0</td>\n",
       "    </tr>\n",
       "    <tr>\n",
       "      <th>57735</th>\n",
       "      <td>48.0</td>\n",
       "      <td>2.0</td>\n",
       "    </tr>\n",
       "    <tr>\n",
       "      <th>51372</th>\n",
       "      <td>153.0</td>\n",
       "      <td>9.0</td>\n",
       "    </tr>\n",
       "    <tr>\n",
       "      <th>31618</th>\n",
       "      <td>90.0</td>\n",
       "      <td>6.0</td>\n",
       "    </tr>\n",
       "    <tr>\n",
       "      <th>38393</th>\n",
       "      <td>78.0</td>\n",
       "      <td>66.0</td>\n",
       "    </tr>\n",
       "  </tbody>\n",
       "</table>\n",
       "</div>"
      ],
      "text/plain": [
       "       DEPARTURE_DELAY  AIRLINE_DELAY\n",
       "3424             123.0          102.0\n",
       "57735             48.0            2.0\n",
       "51372            153.0            9.0\n",
       "31618             90.0            6.0\n",
       "38393             78.0           66.0"
      ]
     },
     "execution_count": 36,
     "metadata": {},
     "output_type": "execute_result"
    }
   ],
   "source": [
    "delay = flights[['DEPARTURE_DELAY', 'AIRLINE_DELAY']].dropna(how='any')\n",
    "delay_positive = delay[delay.ne(0).all(axis=1)]\n",
    "delay_positive.head()"
   ]
  },
  {
   "cell_type": "markdown",
   "metadata": {},
   "source": [
    "### Select the other Axes and make a plot"
   ]
  },
  {
   "cell_type": "code",
   "execution_count": 37,
   "metadata": {},
   "outputs": [
    {
     "data": {
      "text/plain": [
       "<matplotlib.text.Text at 0x1152cc278>"
      ]
     },
     "execution_count": 37,
     "metadata": {},
     "output_type": "execute_result"
    }
   ],
   "source": [
    "ax2 = ax[1]\n",
    "ax2.scatter('DEPARTURE_DELAY', 'AIRLINE_DELAY', data=delay_positive, s=3, color='forestgreen')\n",
    "ax2.set_ylabel('Airline Delay')\n",
    "ax2.set_xlabel('Departure Delay')"
   ]
  },
  {
   "cell_type": "code",
   "execution_count": 38,
   "metadata": {},
   "outputs": [
    {
     "data": {
      "image/png": "[encoded data removed]",
      "text/plain": [
       "<matplotlib.figure.Figure at 0x1151646a0>"
      ]
     },
     "execution_count": 38,
     "metadata": {},
     "output_type": "execute_result"
    }
   ],
   "source": [
    "fig.tight_layout()\n",
    "fig"
   ]
  },
  {
   "cell_type": "markdown",
   "metadata": {},
   "source": [
    "## Plotting with dates\n",
    "Scatterplots with time on the x-axis must be plotted with the **`plot_date`** method."
   ]
  },
  {
   "cell_type": "code",
   "execution_count": 39,
   "metadata": {},
   "outputs": [
    {
     "data": {
      "text/html": [
       "<div>\n",
       "<style>\n",
       "    .dataframe thead tr:only-child th {\n",
       "        text-align: right;\n",
       "    }\n",
       "\n",
       "    .dataframe thead th {\n",
       "        text-align: left;\n",
       "    }\n",
       "\n",
       "    .dataframe tbody tr th {\n",
       "        vertical-align: top;\n",
       "    }\n",
       "</style>\n",
       "<table border=\"1\" class=\"dataframe\">\n",
       "  <thead>\n",
       "    <tr style=\"text-align: right;\">\n",
       "      <th></th>\n",
       "      <th>UNIQUE_ID</th>\n",
       "      <th>POSITION_TITLE</th>\n",
       "      <th>DEPARTMENT</th>\n",
       "      <th>BASE_SALARY</th>\n",
       "      <th>RACE</th>\n",
       "      <th>EMPLOYMENT_TYPE</th>\n",
       "      <th>GENDER</th>\n",
       "      <th>EMPLOYMENT_STATUS</th>\n",
       "      <th>HIRE_DATE</th>\n",
       "      <th>JOB_DATE</th>\n",
       "    </tr>\n",
       "  </thead>\n",
       "  <tbody>\n",
       "    <tr>\n",
       "      <th>0</th>\n",
       "      <td>5906</td>\n",
       "      <td>ASSISTANT DIRECTOR (EX LVL)</td>\n",
       "      <td>Municipal Courts Department</td>\n",
       "      <td>121862.0</td>\n",
       "      <td>Hispanic/Latino</td>\n",
       "      <td>Full Time</td>\n",
       "      <td>Female</td>\n",
       "      <td>Active</td>\n",
       "      <td>2006-06-12</td>\n",
       "      <td>2012-10-13</td>\n",
       "    </tr>\n",
       "    <tr>\n",
       "      <th>1</th>\n",
       "      <td>364</td>\n",
       "      <td>LIBRARY ASSISTANT</td>\n",
       "      <td>Library</td>\n",
       "      <td>26125.0</td>\n",
       "      <td>Hispanic/Latino</td>\n",
       "      <td>Full Time</td>\n",
       "      <td>Female</td>\n",
       "      <td>Active</td>\n",
       "      <td>2000-07-19</td>\n",
       "      <td>2010-09-18</td>\n",
       "    </tr>\n",
       "    <tr>\n",
       "      <th>2</th>\n",
       "      <td>1286</td>\n",
       "      <td>POLICE OFFICER</td>\n",
       "      <td>Houston Police Department-HPD</td>\n",
       "      <td>45279.0</td>\n",
       "      <td>White</td>\n",
       "      <td>Full Time</td>\n",
       "      <td>Male</td>\n",
       "      <td>Active</td>\n",
       "      <td>2015-02-03</td>\n",
       "      <td>2015-02-03</td>\n",
       "    </tr>\n",
       "    <tr>\n",
       "      <th>3</th>\n",
       "      <td>8789</td>\n",
       "      <td>ENGINEER/OPERATOR</td>\n",
       "      <td>Houston Fire Department (HFD)</td>\n",
       "      <td>63166.0</td>\n",
       "      <td>White</td>\n",
       "      <td>Full Time</td>\n",
       "      <td>Male</td>\n",
       "      <td>Active</td>\n",
       "      <td>1982-02-08</td>\n",
       "      <td>1991-05-25</td>\n",
       "    </tr>\n",
       "    <tr>\n",
       "      <th>4</th>\n",
       "      <td>8542</td>\n",
       "      <td>ELECTRICIAN</td>\n",
       "      <td>General Services Department</td>\n",
       "      <td>56347.0</td>\n",
       "      <td>White</td>\n",
       "      <td>Full Time</td>\n",
       "      <td>Male</td>\n",
       "      <td>Active</td>\n",
       "      <td>1989-06-19</td>\n",
       "      <td>1994-10-22</td>\n",
       "    </tr>\n",
       "  </tbody>\n",
       "</table>\n",
       "</div>"
      ],
      "text/plain": [
       "   UNIQUE_ID               POSITION_TITLE                     DEPARTMENT  \\\n",
       "0       5906  ASSISTANT DIRECTOR (EX LVL)    Municipal Courts Department   \n",
       "1        364            LIBRARY ASSISTANT                        Library   \n",
       "2       1286               POLICE OFFICER  Houston Police Department-HPD   \n",
       "3       8789            ENGINEER/OPERATOR  Houston Fire Department (HFD)   \n",
       "4       8542                  ELECTRICIAN    General Services Department   \n",
       "\n",
       "   BASE_SALARY             RACE EMPLOYMENT_TYPE  GENDER EMPLOYMENT_STATUS  \\\n",
       "0     121862.0  Hispanic/Latino       Full Time  Female            Active   \n",
       "1      26125.0  Hispanic/Latino       Full Time  Female            Active   \n",
       "2      45279.0            White       Full Time    Male            Active   \n",
       "3      63166.0            White       Full Time    Male            Active   \n",
       "4      56347.0            White       Full Time    Male            Active   \n",
       "\n",
       "   HIRE_DATE   JOB_DATE  \n",
       "0 2006-06-12 2012-10-13  \n",
       "1 2000-07-19 2010-09-18  \n",
       "2 2015-02-03 2015-02-03  \n",
       "3 1982-02-08 1991-05-25  \n",
       "4 1989-06-19 1994-10-22  "
      ]
     },
     "execution_count": 39,
     "metadata": {},
     "output_type": "execute_result"
    }
   ],
   "source": [
    "employee = pd.read_csv('../data/employee.csv', parse_dates=['HIRE_DATE', 'JOB_DATE'])\n",
    "employee.head()"
   ]
  },
  {
   "cell_type": "code",
   "execution_count": 40,
   "metadata": {},
   "outputs": [
    {
     "data": {
      "text/plain": [
       "<matplotlib.legend.Legend at 0x1158df7f0>"
      ]
     },
     "execution_count": 40,
     "metadata": {},
     "output_type": "execute_result"
    },
    {
     "data": {
      "image/png": "[encoded data removed]",
      "text/plain": [
       "<matplotlib.figure.Figure at 0x1158fbba8>"
      ]
     },
     "metadata": {},
     "output_type": "display_data"
    }
   ],
   "source": [
    "fig, ax = plt.subplots(figsize=(12,6))\n",
    "ax.plot_date('HIRE_DATE', 'BASE_SALARY', data=employee.query('GENDER==\"Female\"'), ms=2, color= 'b',label='Female')\n",
    "ax.plot_date('HIRE_DATE', 'BASE_SALARY', data=employee.query('GENDER==\"Male\"'), ms=2, color= 'r', label='Male')\n",
    "ax.legend()"
   ]
  },
  {
   "cell_type": "markdown",
   "metadata": {},
   "source": [
    "### Grouping by date\n",
    "Grouping by date is a powerful built-in feature of pandas. The **`resample`** method works almost exactly like **`groupby`** except that you pass it an amount of time of each group. You select the amount of time with an **offset alias**. You must also select the column that has the datetime in it with the **`on`** method. If you leave the **`on`** parameter blank it will attempt to use the index and error if that's not a datetime.\n",
    "\n",
    "The example below shows how to group by five years on column **`JOB_DATE`**."
   ]
  },
  {
   "cell_type": "code",
   "execution_count": 41,
   "metadata": {},
   "outputs": [
    {
     "data": {
      "text/plain": [
       "JOB_DATE\n",
       "1980-01-01    71232.500000\n",
       "1985-01-01    61768.833333\n",
       "1990-01-01    60534.031250\n",
       "1995-01-01    64375.400000\n",
       "2000-01-01    58813.136170\n",
       "2005-01-01    56849.098398\n",
       "2010-01-01    58492.310490\n",
       "2015-01-01    46629.418093\n",
       "Name: BASE_SALARY, dtype: float64"
      ]
     },
     "execution_count": 41,
     "metadata": {},
     "output_type": "execute_result"
    }
   ],
   "source": [
    "employee.resample('5AS', on='JOB_DATE')['BASE_SALARY'].mean()"
   ]
  },
  {
   "cell_type": "markdown",
   "metadata": {},
   "source": [
    "### Offset alias\n",
    "An offset alias is a short string that pandas uses to determine the time interval group. See the table below of all the offset aliases."
   ]
  },
  {
   "cell_type": "code",
   "execution_count": 42,
   "metadata": {},
   "outputs": [
    {
     "data": {
      "text/html": [
       "<div>\n",
       "<style>\n",
       "    .dataframe thead tr:only-child th {\n",
       "        text-align: right;\n",
       "    }\n",
       "\n",
       "    .dataframe thead th {\n",
       "        text-align: left;\n",
       "    }\n",
       "\n",
       "    .dataframe tbody tr th {\n",
       "        vertical-align: top;\n",
       "    }\n",
       "</style>\n",
       "<table border=\"1\" class=\"dataframe\">\n",
       "  <thead>\n",
       "    <tr style=\"text-align: right;\">\n",
       "      <th></th>\n",
       "      <th>Alias</th>\n",
       "      <th>Description</th>\n",
       "    </tr>\n",
       "  </thead>\n",
       "  <tbody>\n",
       "    <tr>\n",
       "      <th>0</th>\n",
       "      <td>B</td>\n",
       "      <td>business day frequency</td>\n",
       "    </tr>\n",
       "    <tr>\n",
       "      <th>1</th>\n",
       "      <td>C</td>\n",
       "      <td>custom business day frequency (experimental)</td>\n",
       "    </tr>\n",
       "    <tr>\n",
       "      <th>2</th>\n",
       "      <td>D</td>\n",
       "      <td>calendar day frequency</td>\n",
       "    </tr>\n",
       "    <tr>\n",
       "      <th>3</th>\n",
       "      <td>W</td>\n",
       "      <td>weekly frequency</td>\n",
       "    </tr>\n",
       "    <tr>\n",
       "      <th>4</th>\n",
       "      <td>M</td>\n",
       "      <td>month end frequency</td>\n",
       "    </tr>\n",
       "    <tr>\n",
       "      <th>5</th>\n",
       "      <td>SM</td>\n",
       "      <td>semi-month end frequency (15th and end of month)</td>\n",
       "    </tr>\n",
       "    <tr>\n",
       "      <th>6</th>\n",
       "      <td>BM</td>\n",
       "      <td>business month end frequency</td>\n",
       "    </tr>\n",
       "    <tr>\n",
       "      <th>7</th>\n",
       "      <td>CBM</td>\n",
       "      <td>custom business month end frequency</td>\n",
       "    </tr>\n",
       "    <tr>\n",
       "      <th>8</th>\n",
       "      <td>MS</td>\n",
       "      <td>month start frequency</td>\n",
       "    </tr>\n",
       "    <tr>\n",
       "      <th>9</th>\n",
       "      <td>SMS</td>\n",
       "      <td>semi-month start frequency (1st and 15th)</td>\n",
       "    </tr>\n",
       "    <tr>\n",
       "      <th>10</th>\n",
       "      <td>BMS</td>\n",
       "      <td>business month start frequency</td>\n",
       "    </tr>\n",
       "    <tr>\n",
       "      <th>11</th>\n",
       "      <td>CBMS</td>\n",
       "      <td>custom business month start frequency</td>\n",
       "    </tr>\n",
       "    <tr>\n",
       "      <th>12</th>\n",
       "      <td>Q</td>\n",
       "      <td>quarter end frequency</td>\n",
       "    </tr>\n",
       "    <tr>\n",
       "      <th>13</th>\n",
       "      <td>BQ</td>\n",
       "      <td>business quarter endfrequency</td>\n",
       "    </tr>\n",
       "    <tr>\n",
       "      <th>14</th>\n",
       "      <td>QS</td>\n",
       "      <td>quarter start frequency</td>\n",
       "    </tr>\n",
       "    <tr>\n",
       "      <th>15</th>\n",
       "      <td>BQS</td>\n",
       "      <td>business quarter start frequency</td>\n",
       "    </tr>\n",
       "    <tr>\n",
       "      <th>16</th>\n",
       "      <td>A</td>\n",
       "      <td>year end frequency</td>\n",
       "    </tr>\n",
       "    <tr>\n",
       "      <th>17</th>\n",
       "      <td>BA</td>\n",
       "      <td>business year end frequency</td>\n",
       "    </tr>\n",
       "    <tr>\n",
       "      <th>18</th>\n",
       "      <td>AS</td>\n",
       "      <td>year start frequency</td>\n",
       "    </tr>\n",
       "    <tr>\n",
       "      <th>19</th>\n",
       "      <td>BAS</td>\n",
       "      <td>business year start frequency</td>\n",
       "    </tr>\n",
       "    <tr>\n",
       "      <th>20</th>\n",
       "      <td>BH</td>\n",
       "      <td>business hour frequency</td>\n",
       "    </tr>\n",
       "    <tr>\n",
       "      <th>21</th>\n",
       "      <td>H</td>\n",
       "      <td>hourly frequency</td>\n",
       "    </tr>\n",
       "    <tr>\n",
       "      <th>22</th>\n",
       "      <td>T, min</td>\n",
       "      <td>minutely frequency</td>\n",
       "    </tr>\n",
       "    <tr>\n",
       "      <th>23</th>\n",
       "      <td>S</td>\n",
       "      <td>secondly frequency</td>\n",
       "    </tr>\n",
       "    <tr>\n",
       "      <th>24</th>\n",
       "      <td>L, ms</td>\n",
       "      <td>milliseconds</td>\n",
       "    </tr>\n",
       "    <tr>\n",
       "      <th>25</th>\n",
       "      <td>U, us</td>\n",
       "      <td>microseconds</td>\n",
       "    </tr>\n",
       "    <tr>\n",
       "      <th>26</th>\n",
       "      <td>N</td>\n",
       "      <td>nanoseconds</td>\n",
       "    </tr>\n",
       "  </tbody>\n",
       "</table>\n",
       "</div>"
      ],
      "text/plain": [
       "     Alias                                       Description\n",
       "0        B                            business day frequency\n",
       "1        C      custom business day frequency (experimental)\n",
       "2        D                            calendar day frequency\n",
       "3        W                                  weekly frequency\n",
       "4        M                               month end frequency\n",
       "5       SM  semi-month end frequency (15th and end of month)\n",
       "6       BM                      business month end frequency\n",
       "7      CBM               custom business month end frequency\n",
       "8       MS                             month start frequency\n",
       "9      SMS         semi-month start frequency (1st and 15th)\n",
       "10     BMS                    business month start frequency\n",
       "11    CBMS             custom business month start frequency\n",
       "12       Q                             quarter end frequency\n",
       "13      BQ                     business quarter endfrequency\n",
       "14      QS                           quarter start frequency\n",
       "15     BQS                  business quarter start frequency\n",
       "16       A                                year end frequency\n",
       "17      BA                       business year end frequency\n",
       "18      AS                              year start frequency\n",
       "19     BAS                     business year start frequency\n",
       "20      BH                           business hour frequency\n",
       "21       H                                  hourly frequency\n",
       "22  T, min                                minutely frequency\n",
       "23       S                                secondly frequency\n",
       "24   L, ms                                      milliseconds\n",
       "25   U, us                                      microseconds\n",
       "26       N                                       nanoseconds"
      ]
     },
     "execution_count": 42,
     "metadata": {},
     "output_type": "execute_result"
    }
   ],
   "source": [
    "pd.read_csv('../data/offset_alias.csv')"
   ]
  },
  {
   "cell_type": "markdown",
   "metadata": {},
   "source": [
    "To group by week you would use **'W'**, to review by quarter you use **'Q'**. Some offset aliases allow you to use them by appending **S** to them. This forces the date returned from the aggregation as the first of the grouping time period."
   ]
  },
  {
   "cell_type": "markdown",
   "metadata": {},
   "source": [
    "### Grouping by date and another column"
   ]
  },
  {
   "cell_type": "markdown",
   "metadata": {},
   "source": [
    "It's possible to groupby date and another column. Instead of using **`resample`** use **`groupby`**. Inside the groupby, you will be doing something strange. You will pass in a list. One of the elements of your list will be this bizarre object **`pd.Grouper`**. This object taks a **key** parameter which should equal to your date time. Use the **`freq`** parameter to enter the offset alias."
   ]
  },
  {
   "cell_type": "code",
   "execution_count": 43,
   "metadata": {},
   "outputs": [
    {
     "data": {
      "text/plain": [
       "HIRE_DATE   GENDER\n",
       "1958-01-01  Male       81239.000000\n",
       "1968-01-01  Male       78102.000000\n",
       "1973-01-01  Female              NaN\n",
       "            Male      163228.000000\n",
       "1978-01-01  Female     55066.250000\n",
       "            Male       70498.829787\n",
       "1983-01-01  Female     58792.071429\n",
       "            Male       73404.136986\n",
       "1988-01-01  Female     54935.892308\n",
       "            Male       66338.765766\n",
       "1993-01-01  Female     59442.721311\n",
       "            Male       63507.758824\n",
       "1998-01-01  Female     56070.466667\n",
       "            Male       63276.048276\n",
       "2003-01-01  Female     53759.009804\n",
       "            Male       57733.066667\n",
       "2008-01-01  Female     51515.070175\n",
       "            Male       51835.798030\n",
       "2013-01-01  Female     43723.783582\n",
       "            Male       43912.674825\n",
       "Name: BASE_SALARY, dtype: float64"
      ]
     },
     "execution_count": 43,
     "metadata": {},
     "output_type": "execute_result"
    }
   ],
   "source": [
    "employee.groupby([pd.Grouper(key='HIRE_DATE', freq='5AS'), 'GENDER'])['BASE_SALARY'].mean()"
   ]
  },
  {
   "cell_type": "code",
   "execution_count": 44,
   "metadata": {},
   "outputs": [
    {
     "data": {
      "text/html": [
       "<div>\n",
       "<style>\n",
       "    .dataframe thead tr:only-child th {\n",
       "        text-align: right;\n",
       "    }\n",
       "\n",
       "    .dataframe thead th {\n",
       "        text-align: left;\n",
       "    }\n",
       "\n",
       "    .dataframe tbody tr th {\n",
       "        vertical-align: top;\n",
       "    }\n",
       "</style>\n",
       "<table border=\"1\" class=\"dataframe\">\n",
       "  <thead>\n",
       "    <tr style=\"text-align: right;\">\n",
       "      <th>GENDER</th>\n",
       "      <th>Female</th>\n",
       "      <th>Male</th>\n",
       "    </tr>\n",
       "    <tr>\n",
       "      <th>HIRE_DATE</th>\n",
       "      <th></th>\n",
       "      <th></th>\n",
       "    </tr>\n",
       "  </thead>\n",
       "  <tbody>\n",
       "    <tr>\n",
       "      <th>1958-01-01</th>\n",
       "      <td>NaN</td>\n",
       "      <td>81239.000000</td>\n",
       "    </tr>\n",
       "    <tr>\n",
       "      <th>1968-01-01</th>\n",
       "      <td>NaN</td>\n",
       "      <td>78102.000000</td>\n",
       "    </tr>\n",
       "    <tr>\n",
       "      <th>1973-01-01</th>\n",
       "      <td>NaN</td>\n",
       "      <td>163228.000000</td>\n",
       "    </tr>\n",
       "    <tr>\n",
       "      <th>1978-01-01</th>\n",
       "      <td>55066.250000</td>\n",
       "      <td>70498.829787</td>\n",
       "    </tr>\n",
       "    <tr>\n",
       "      <th>1983-01-01</th>\n",
       "      <td>58792.071429</td>\n",
       "      <td>73404.136986</td>\n",
       "    </tr>\n",
       "    <tr>\n",
       "      <th>1988-01-01</th>\n",
       "      <td>54935.892308</td>\n",
       "      <td>66338.765766</td>\n",
       "    </tr>\n",
       "    <tr>\n",
       "      <th>1993-01-01</th>\n",
       "      <td>59442.721311</td>\n",
       "      <td>63507.758824</td>\n",
       "    </tr>\n",
       "    <tr>\n",
       "      <th>1998-01-01</th>\n",
       "      <td>56070.466667</td>\n",
       "      <td>63276.048276</td>\n",
       "    </tr>\n",
       "    <tr>\n",
       "      <th>2003-01-01</th>\n",
       "      <td>53759.009804</td>\n",
       "      <td>57733.066667</td>\n",
       "    </tr>\n",
       "    <tr>\n",
       "      <th>2008-01-01</th>\n",
       "      <td>51515.070175</td>\n",
       "      <td>51835.798030</td>\n",
       "    </tr>\n",
       "    <tr>\n",
       "      <th>2013-01-01</th>\n",
       "      <td>43723.783582</td>\n",
       "      <td>43912.674825</td>\n",
       "    </tr>\n",
       "  </tbody>\n",
       "</table>\n",
       "</div>"
      ],
      "text/plain": [
       "GENDER            Female           Male\n",
       "HIRE_DATE                              \n",
       "1958-01-01           NaN   81239.000000\n",
       "1968-01-01           NaN   78102.000000\n",
       "1973-01-01           NaN  163228.000000\n",
       "1978-01-01  55066.250000   70498.829787\n",
       "1983-01-01  58792.071429   73404.136986\n",
       "1988-01-01  54935.892308   66338.765766\n",
       "1993-01-01  59442.721311   63507.758824\n",
       "1998-01-01  56070.466667   63276.048276\n",
       "2003-01-01  53759.009804   57733.066667\n",
       "2008-01-01  51515.070175   51835.798030\n",
       "2013-01-01  43723.783582   43912.674825"
      ]
     },
     "execution_count": 44,
     "metadata": {},
     "output_type": "execute_result"
    }
   ],
   "source": [
    "employee.groupby([pd.Grouper(key='HIRE_DATE', freq='5AS'), 'GENDER'])['BASE_SALARY'].mean().unstack()"
   ]
  },
  {
   "cell_type": "code",
   "execution_count": 45,
   "metadata": {},
   "outputs": [
    {
     "data": {
      "text/plain": [
       "<matplotlib.axes._subplots.AxesSubplot at 0x1158e6748>"
      ]
     },
     "execution_count": 45,
     "metadata": {},
     "output_type": "execute_result"
    },
    {
     "data": {
      "image/png": "[encoded data removed]",
      "text/plain": [
       "<matplotlib.figure.Figure at 0x1158dc6a0>"
      ]
     },
     "metadata": {},
     "output_type": "display_data"
    }
   ],
   "source": [
    "employee.groupby([pd.Grouper(key='HIRE_DATE', freq='5AS'), 'GENDER'])['BASE_SALARY'].mean().unstack().plot()"
   ]
  },
  {
   "cell_type": "markdown",
   "metadata": {},
   "source": [
    "# Your Turn"
   ]
  },
  {
   "cell_type": "markdown",
   "metadata": {},
   "source": [
    "### Problem 1\n",
    "<span  style=\"color:green; font-size:16px\">Create a single Axes using **`plt.subplots`**. Use **`np.linspace`** to create a one dimensional array of data from -5 to 5 of length 100 and store this to **`x`**. Create a variable **`y`** equal to the sine of x. Make a plot of x vs y.</span>"
   ]
  },
  {
   "cell_type": "code",
   "execution_count": 46,
   "metadata": {
    "collapsed": true
   },
   "outputs": [],
   "source": [
    "# your code here"
   ]
  },
  {
   "cell_type": "markdown",
   "metadata": {},
   "source": [
    "### Problem 2\n",
    "<span  style=\"color:green; font-size:16px\">Continuing with your axes from problem 1, give the x-axis and y-axis a label and title the plot. Change the x tick labels to strings that represent their numbers. Show the plot.</span>"
   ]
  },
  {
   "cell_type": "code",
   "execution_count": 47,
   "metadata": {
    "collapsed": true
   },
   "outputs": [],
   "source": [
    "# your code here"
   ]
  },
  {
   "cell_type": "markdown",
   "metadata": {},
   "source": [
    "### Problem 3\n",
    "<span  style=\"color:green; font-size:16px\">Use **`np.random.rand`** to create two arrays, **`x`** and **`y`** that are each 100 units in length. Make a scatter plot of data. Make the size of the markers proportional to the ratio of y to x. Make the color proportional to y. For scatter plots the variable **`c`** controls the color and the variable **`s`** controls the size. Set the title as well.</span>"
   ]
  },
  {
   "cell_type": "code",
   "execution_count": 48,
   "metadata": {
    "collapsed": true
   },
   "outputs": [],
   "source": [
    "# your code here"
   ]
  },
  {
   "cell_type": "markdown",
   "metadata": {},
   "source": [
    "### Problem 4\n",
    "<span  style=\"color:green; font-size:16px\">Use the city of Houston employee data to plot years and make a scatter plot between years of experience and base salary. **`EXTRA CREDIT`**: Use [statsmodels](http://statsmodels.sourceforge.net/devel/index.html) to find a regression line and draw it through the points.</span>"
   ]
  },
  {
   "cell_type": "code",
   "execution_count": 49,
   "metadata": {
    "collapsed": true
   },
   "outputs": [],
   "source": [
    "# run this first\n",
    "employee = pd.read_csv('../data/employee.csv', parse_dates=['HIRE_DATE', 'JOB_DATE'])\n",
    "employee['YEARS_EXPERIENCE'] = (pd.Timestamp('2016-12-1') - employee['HIRE_DATE']) / pd.Timedelta(1, 'Y')\n",
    "employee['EXPERIENCE_LEVEL'] =  pd.cut(employee['YEARS_EXPERIENCE'], \n",
    "                                       bins=[0, 5, 15, 100], \n",
    "                                       labels=['Novice', 'Experienced', 'Senior'])"
   ]
  },
  {
   "cell_type": "code",
   "execution_count": 50,
   "metadata": {
    "collapsed": true
   },
   "outputs": [],
   "source": [
    "# your code here"
   ]
  },
  {
   "cell_type": "markdown",
   "metadata": {},
   "source": [
    "### Problem 5\n",
    "<span  style=\"color:green; font-size:16px\">Use the **`pd.cut`** function to create 5 categories of years of experience. Make a pie chart of the resulting distribution of these categories. Use the **`autpct`** parameter of the **`pie`** method to see the percentages.</span>"
   ]
  },
  {
   "cell_type": "code",
   "execution_count": 51,
   "metadata": {
    "collapsed": true
   },
   "outputs": [],
   "source": [
    "# your code here"
   ]
  }
 ],
 "metadata": {
  "kernelspec": {
   "display_name": "Python 3",
   "language": "python",
   "name": "python3"
  },
  "language_info": {
   "codemirror_mode": {
    "name": "ipython",
    "version": 3
   },
   "file_extension": ".py",
   "mimetype": "text/x-python",
   "name": "python",
   "nbconvert_exporter": "python",
   "pygments_lexer": "ipython3",
   "version": "3.6.4"
  }
 },
 "nbformat": 4,
 "nbformat_minor": 2
}
